{
 "cells": [
  {
   "cell_type": "markdown",
   "id": "2237a629",
   "metadata": {},
   "source": [
    "## Trajactory Analysis:\n",
    "\n",
    "#### Skrypt powstał w celu analizy danych pochodzących z programu Fiji, wygenerowanych za pomocą pluginu TrackMate. Dane opisuja ścieżki ruchu chloroplastów w komórkach roślinnych. Dane zostały wstępnie przefiltrowane w programie Fiji. \n",
    "\n",
    "#### The scrip was created to analyze the data from the Fiji program, data are generated with the TrackMate plugin. The data describe the pathways of chloroplast movement in plant cells. The data has been pre-filtered in the Fiji program. "
   ]
  },
  {
   "cell_type": "code",
   "execution_count": 2,
   "id": "209d19ca",
   "metadata": {},
   "outputs": [],
   "source": [
    "import numpy as np\n",
    "import pandas as pd\n",
    "import matplotlib.pyplot as plt\n",
    "import seaborn as sns\n",
    "# allow us to see results under cell code\n",
    "%matplotlib inline"
   ]
  },
  {
   "cell_type": "code",
   "execution_count": null,
   "id": "2e656008",
   "metadata": {},
   "outputs": [],
   "source": []
  }
 ],
 "metadata": {
  "kernelspec": {
   "display_name": "Python 3 (ipykernel)",
   "language": "python",
   "name": "python3"
  },
  "language_info": {
   "codemirror_mode": {
    "name": "ipython",
    "version": 3
   },
   "file_extension": ".py",
   "mimetype": "text/x-python",
   "name": "python",
   "nbconvert_exporter": "python",
   "pygments_lexer": "ipython3",
   "version": "3.7.13"
  }
 },
 "nbformat": 4,
 "nbformat_minor": 5
}
