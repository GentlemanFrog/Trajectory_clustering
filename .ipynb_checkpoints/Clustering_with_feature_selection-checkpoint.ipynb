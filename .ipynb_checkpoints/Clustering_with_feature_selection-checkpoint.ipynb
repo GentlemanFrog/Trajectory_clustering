{
 "cells": [
  {
   "cell_type": "code",
   "execution_count": 59,
   "id": "96d4452c",
   "metadata": {},
   "outputs": [
    {
     "name": "stdout",
     "output_type": "stream",
     "text": [
      "env: OMP_NUM_THREADS=1\n"
     ]
    }
   ],
   "source": [
    "# Setting optimal number of threads for kmeans:\n",
    "%env OMP_NUM_THREADS=1\n",
    "import numpy as np\n",
    "import pandas as pd\n",
    "import matplotlib.pyplot as plt\n",
    "import seaborn as sns\n",
    "import scipy.stats as stats\n",
    "from sklearn.cluster import KMeans\n",
    "from sklearn.preprocessing import StandardScaler\n",
    "from sklearn.preprocessing import RobustScaler\n",
    "import pylab\n",
    "import os\n",
    "# allow us to see results under cell code\n",
    "%matplotlib inline"
   ]
  },
  {
   "cell_type": "markdown",
   "id": "60f78623",
   "metadata": {},
   "source": [
    "### Setting up working directory:\n"
   ]
  },
  {
   "cell_type": "code",
   "execution_count": 3,
   "id": "0bb303f2",
   "metadata": {},
   "outputs": [
    {
     "data": {
      "text/plain": [
       "'C:\\\\Users\\\\Alek\\\\Desktop\\\\Github_commits\\\\Trajectory_clustering'"
      ]
     },
     "execution_count": 3,
     "metadata": {},
     "output_type": "execute_result"
    }
   ],
   "source": [
    "pwd"
   ]
  },
  {
   "cell_type": "code",
   "execution_count": 5,
   "id": "cd852ab0",
   "metadata": {},
   "outputs": [
    {
     "data": {
      "text/plain": [
       "'C:\\\\Users\\\\Alek\\\\Desktop\\\\Github_commits\\\\Trajectory_clustering'"
      ]
     },
     "execution_count": 5,
     "metadata": {},
     "output_type": "execute_result"
    }
   ],
   "source": [
    "os.getcwd()"
   ]
  },
  {
   "cell_type": "code",
   "execution_count": 7,
   "id": "ba3d46f7",
   "metadata": {},
   "outputs": [],
   "source": [
    "# Setting desire working directory:\n",
    "os.chdir('C:\\\\Users\\\\Alek\\\\Desktop\\\\Github_commits\\\\Trajectory_clustering\\\\training_csv')"
   ]
  },
  {
   "cell_type": "code",
   "execution_count": 9,
   "id": "ae19bc82",
   "metadata": {},
   "outputs": [
    {
     "data": {
      "text/plain": [
       "'C:\\\\Users\\\\Alek\\\\Desktop\\\\Github_commits\\\\Trajectory_clustering\\\\training_csv'"
      ]
     },
     "execution_count": 9,
     "metadata": {},
     "output_type": "execute_result"
    }
   ],
   "source": [
    "# Checking the setted directory:\n",
    "os.getcwd()"
   ]
  },
  {
   "cell_type": "markdown",
   "id": "6c2dcade",
   "metadata": {},
   "source": [
    "### Setting the files names:"
   ]
  },
  {
   "cell_type": "code",
   "execution_count": 10,
   "id": "247cd77e",
   "metadata": {},
   "outputs": [],
   "source": [
    "tracks_df = 'export_tracks_analiza_filtered.csv'\n",
    "spots_df = 'export_spots_analiza_filtered.csv'"
   ]
  },
  {
   "cell_type": "markdown",
   "id": "2e1a349a",
   "metadata": {},
   "source": [
    "### Importing the csv:"
   ]
  },
  {
   "cell_type": "code",
   "execution_count": 15,
   "id": "bec5c373",
   "metadata": {},
   "outputs": [],
   "source": [
    "# Reading file with proper encoding form fiji:\n",
    "\n",
    "raw_data = pd.read_csv(tracks_df, encoding = 'cp1250')\n",
    "\n",
    "# Fillling na values:\n",
    "raw_data.fillna(0)\n",
    "\n",
    "# Creating the df from interesting columns:\n",
    "df_from_raw = raw_data[['LABEL', 'TRACK_ID','TRACK_MIN_SPEED', 'TRACK_MEDIAN_SPEED',\n",
    "                          'TRACK_STD_SPEED', 'TOTAL_DISTANCE_TRAVELED',\n",
    "                          'CONFINEMENT_RATIO', 'MEAN_STRAIGHT_LINE_SPEED',\n",
    "                          'LINEARITY_OF_FORWARD_PROGRESSION',\n",
    "                          'MEAN_DIRECTIONAL_CHANGE_RATE']].copy()"
   ]
  },
  {
   "cell_type": "code",
   "execution_count": 47,
   "id": "e092f432",
   "metadata": {},
   "outputs": [],
   "source": [
    "# Droping first 3 row because of insuficient values:\n",
    "df_dropped = df_from_raw.drop(df_from_raw.index[[0,1,2]])\n",
    "\n",
    "# Setting the proper index order:\n",
    "df_dropped = df_dropped.reset_index(level=None, drop=True)"
   ]
  },
  {
   "cell_type": "code",
   "execution_count": 51,
   "id": "5163d6e4",
   "metadata": {},
   "outputs": [
    {
     "name": "stdout",
     "output_type": "stream",
     "text": [
      "<class 'pandas.core.frame.DataFrame'>\n",
      "RangeIndex: 79 entries, 0 to 78\n",
      "Data columns (total 10 columns):\n",
      " #   Column                            Non-Null Count  Dtype  \n",
      "---  ------                            --------------  -----  \n",
      " 0   TRACK_MIN_SPEED                   79 non-null     float64\n",
      " 1   TRACK_MEDIAN_SPEED                79 non-null     float64\n",
      " 2   TRACK_STD_SPEED                   79 non-null     float64\n",
      " 3   TOTAL_DISTANCE_TRAVELED           79 non-null     float64\n",
      " 4   CONFINEMENT_RATIO                 79 non-null     float64\n",
      " 5   MEAN_STRAIGHT_LINE_SPEED          79 non-null     float64\n",
      " 6   LINEARITY_OF_FORWARD_PROGRESSION  79 non-null     float64\n",
      " 7   MEAN_DIRECTIONAL_CHANGE_RATE      79 non-null     float64\n",
      " 8   LABEL                             79 non-null     string \n",
      " 9   TRACK_ID                          79 non-null     int32  \n",
      "dtypes: float64(8), int32(1), string(1)\n",
      "memory usage: 6.0 KB\n"
     ]
    }
   ],
   "source": [
    "# Setting proper data types of values:\n",
    "# By use of to numeric it was able tooverlap the problem with commas.\n",
    "df_w_floats = df_dropped.iloc[:, 2:10].apply(pd.to_numeric)\n",
    "# We also adding the label column with the names of tracks changed to string\n",
    "df_w_floats['LABEL'] = df_dropped['LABEL'].astype('string')\n",
    "df_w_floats['TRACK_ID'] = df_dropped['TRACK_ID'].astype('int')\n",
    "df_w_floats.info()"
   ]
  },
  {
   "cell_type": "code",
   "execution_count": 56,
   "id": "1867d1d9",
   "metadata": {},
   "outputs": [],
   "source": [
    "# Creating sub-df without fiji labels:\n",
    "df_no_Flabels = df_w_floats.copy()\n",
    "df_no_Flabels = df_no_Flabels.drop(['LABEL', 'TRACK_ID'], axis = 1)\n",
    "#df_no_Flabels.info()"
   ]
  },
  {
   "cell_type": "markdown",
   "id": "52fa9169",
   "metadata": {},
   "source": [
    "### Checking the correlation of data:"
   ]
  },
  {
   "cell_type": "code",
   "execution_count": null,
   "id": "a435bfc0",
   "metadata": {},
   "outputs": [],
   "source": [
    "plt.figure(figsize=(20,15))\n",
    "sns.heatmap(df_no_Flabels.corr(method='spearman'),\n",
    "            annot=True, cmap='RdBu')\n",
    "plt.title('Correlation heatmap', fontsize=20)\n",
    "plt.yticks(rotation=0, fontsize = 16)\n",
    "plt.xticks(rotation=-45, ha='left', rotation_mode='anchor', fontsize = 16)\n",
    "#plt.savefig(\"heatmap_spearman_out.jpg\")\n",
    "plt.show()"
   ]
  }
 ],
 "metadata": {
  "kernelspec": {
   "display_name": "Python 3 (ipykernel)",
   "language": "python",
   "name": "python3"
  },
  "language_info": {
   "codemirror_mode": {
    "name": "ipython",
    "version": 3
   },
   "file_extension": ".py",
   "mimetype": "text/x-python",
   "name": "python",
   "nbconvert_exporter": "python",
   "pygments_lexer": "ipython3",
   "version": "3.9.13"
  }
 },
 "nbformat": 4,
 "nbformat_minor": 5
}
