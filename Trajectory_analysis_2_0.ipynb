{
 "cells": [
  {
   "cell_type": "code",
   "execution_count": 1,
   "id": "de8e295d",
   "metadata": {},
   "outputs": [
    {
     "name": "stdout",
     "output_type": "stream",
     "text": [
      "env: OMP_NUM_THREADS=1\n"
     ]
    }
   ],
   "source": [
    "# Setting optimal number of threads for kmeans:\n",
    "%env OMP_NUM_THREADS=1\n",
    "from pathlib import Path\n",
    "import ipywidgets as widgets\n",
    "from IPython.display import display, Javascript\n",
    "import numpy as np\n",
    "import pandas as pd\n",
    "import matplotlib.pyplot as plt\n",
    "import seaborn as sns\n",
    "import scipy.stats as stats\n",
    "from sklearn.cluster import KMeans\n",
    "from sklearn.cluster import KMeans, AgglomerativeClustering\n",
    "from scipy.cluster.hierarchy import dendrogram, linkage, fcluster\n",
    "from sklearn.preprocessing import StandardScaler\n",
    "from sklearn.preprocessing import RobustScaler\n",
    "from sklearn.metrics import silhouette_score\n",
    "import pylab\n",
    "import os\n",
    "# allow us to see results under cell code\n",
    "%matplotlib inline"
   ]
  },
  {
   "cell_type": "markdown",
   "id": "bdb393ef",
   "metadata": {},
   "source": [
    "### Set working directory:"
   ]
  },
  {
   "cell_type": "markdown",
   "id": "a8ebd20f",
   "metadata": {},
   "source": [
    "#### Check current working directory:"
   ]
  },
  {
   "cell_type": "code",
   "execution_count": 2,
   "id": "ef8c858d",
   "metadata": {},
   "outputs": [
    {
     "data": {
      "text/plain": [
       "'C:\\\\Users\\\\Alek\\\\Desktop\\\\Github_commits\\\\Trajectory_clustering'"
      ]
     },
     "execution_count": 2,
     "metadata": {},
     "output_type": "execute_result"
    }
   ],
   "source": [
    "pwd"
   ]
  },
  {
   "cell_type": "markdown",
   "id": "6e8ac83c",
   "metadata": {},
   "source": [
    "#### Setting desire working directory\n",
    "(Provide path to the folder containing the .csv file from fiji)"
   ]
  },
  {
   "cell_type": "code",
   "execution_count": 3,
   "id": "d78ffe60",
   "metadata": {},
   "outputs": [],
   "source": [
    "os.chdir('C:\\\\Users\\\\Alek\\\\Desktop\\\\Github_commits\\\\Trajectory_clustering\\\\tracks_slabe_s_1_min')"
   ]
  },
  {
   "cell_type": "markdown",
   "id": "aaf3c30a",
   "metadata": {},
   "source": [
    "#### Check if provided path leads to desired directory:"
   ]
  },
  {
   "cell_type": "code",
   "execution_count": 4,
   "id": "3c18fd1f",
   "metadata": {},
   "outputs": [
    {
     "data": {
      "text/plain": [
       "'C:\\\\Users\\\\Alek\\\\Desktop\\\\Github_commits\\\\Trajectory_clustering\\\\tracks_slabe_s_1_min'"
      ]
     },
     "execution_count": 4,
     "metadata": {},
     "output_type": "execute_result"
    }
   ],
   "source": [
    "os.getcwd()"
   ]
  },
  {
   "cell_type": "markdown",
   "id": "1695eed7",
   "metadata": {},
   "source": [
    "### Setting filenames:"
   ]
  },
  {
   "cell_type": "markdown",
   "id": "3d66b31e",
   "metadata": {},
   "source": [
    "#### tracks_df - .csv file from fiji (or imageJ) containing information about generated tracks from TrackMate plugin\n",
    "#### spots_df - .csv file from fiji (or imageJ) containing information about spots whithin every track\n",
    "#### directory_name - name of the new directory that the workflow will create containing all output information and generated data frames in the form of .csv files"
   ]
  },
  {
   "cell_type": "code",
   "execution_count": 5,
   "id": "6f5d313b",
   "metadata": {},
   "outputs": [],
   "source": [
    "tracks_df = 'tracks_slabe_s_1_min_nieb_40uE.csv' \n",
    "\n",
    "spots_df = 'spots_slabe_s_1_min_nieb_40uE.csv'\n",
    "\n",
    "# Please stick with convention of naming example: \"TA_training_csv\"\n",
    "directory_name ='TA_tracks_slabe_s_1_min'"
   ]
  },
  {
   "cell_type": "markdown",
   "id": "a0cd4bcd",
   "metadata": {},
   "source": [
    "### Importing data from .csv to the data frame:"
   ]
  },
  {
   "cell_type": "code",
   "execution_count": 6,
   "id": "d869d8e3",
   "metadata": {},
   "outputs": [],
   "source": [
    "# Reading file with proper encoding form fiji:\n",
    "\n",
    "raw_data = pd.read_csv(tracks_df, encoding = 'cp1250')\n",
    "raw_data_spots = pd.read_csv(spots_df, encoding = 'cp1250')\n",
    "\n",
    "# Fillling na values:\n",
    "raw_data.fillna(0)\n",
    "\n",
    "# Creating the df from interesting columns:\n",
    "df_from_raw = raw_data[['LABEL', 'TRACK_ID','TRACK_MIN_SPEED', 'TRACK_MEDIAN_SPEED',\n",
    "                          'TRACK_STD_SPEED', 'TOTAL_DISTANCE_TRAVELED',\n",
    "                          'CONFINEMENT_RATIO', 'MEAN_STRAIGHT_LINE_SPEED',\n",
    "                          'LINEARITY_OF_FORWARD_PROGRESSION',\n",
    "                          'MEAN_DIRECTIONAL_CHANGE_RATE']].copy()"
   ]
  },
  {
   "cell_type": "markdown",
   "id": "59e21456",
   "metadata": {},
   "source": [
    "### Adjusting the data frame content: removing exces rows, converting types reseting index etc. "
   ]
  },
  {
   "cell_type": "code",
   "execution_count": 7,
   "id": "00d9005e",
   "metadata": {},
   "outputs": [],
   "source": [
    "# Droping first 3 row because of insuficient values:\n",
    "df_dropped = df_from_raw.drop(df_from_raw.index[[0,1,2]])\n",
    "\n",
    "# Setting the proper index order:\n",
    "df_dropped = df_dropped.reset_index(level=None, drop=True)\n",
    "\n",
    "# Setting proper data types of values:\n",
    "# By use of to numeric it was able tooverlap the problem with commas.\n",
    "df_w_floats = df_dropped.iloc[:, 2:10].apply(pd.to_numeric)\n",
    "# We also adding the label column with the names of tracks changed to string\n",
    "df_w_floats['LABEL'] = df_dropped['LABEL'].astype('string')\n",
    "df_w_floats['TRACK_ID'] = df_dropped['TRACK_ID'].astype('int')\n",
    "# df_w_floats.info()\n",
    "\n",
    "# Creating sub-df without fiji labels:\n",
    "df_no_Flabels = df_w_floats.copy()\n",
    "df_no_Flabels = df_no_Flabels.drop(['LABEL', 'TRACK_ID'], axis = 1)\n",
    "#df_no_Flabels.info()"
   ]
  },
  {
   "cell_type": "markdown",
   "id": "30754155",
   "metadata": {},
   "source": [
    "### Making new directory for output provided by the workflow:"
   ]
  },
  {
   "cell_type": "code",
   "execution_count": 8,
   "id": "9fd5c1c9",
   "metadata": {},
   "outputs": [
    {
     "name": "stdout",
     "output_type": "stream",
     "text": [
      "The directory C:\\Users\\Alek\\Desktop\\Github_commits\\Trajectory_clustering\\tracks_slabe_s_1_min\\TA_tracks_slabe_s_1_min already exists, using it instead.\n"
     ]
    }
   ],
   "source": [
    "# getting the absolute path of the current working directory\n",
    "current_dir = os.getcwd()\n",
    "\n",
    "# creating path to new folder:\n",
    "new_folder_path = os.path.abspath(os.path.join(current_dir, directory_name))\n",
    "\n",
    "# Checking if the directory already exists\n",
    "if not os.path.exists(new_folder_path): \n",
    "    # create the new folder\n",
    "    os.mkdir(new_folder_path)\n",
    "else:\n",
    "    print(f\"The directory {new_folder_path} already exists, using it instead.\")\n",
    "    \n",
    "# set the new folder as the current working directory\n",
    "os.chdir(new_folder_path)\n",
    "\n",
    "# saving .csv to new folder:\n",
    "df_w_floats.to_csv('df_w_floats.csv')\n",
    "df_no_Flabels.to_csv('df_no_Flabes.csv')\n",
    "raw_data_spots.to_csv('raw_spots_data.csv')"
   ]
  },
  {
   "cell_type": "markdown",
   "id": "69eb20c4",
   "metadata": {},
   "source": [
    "### Performing the spearman correlation of all features:"
   ]
  },
  {
   "cell_type": "code",
   "execution_count": 9,
   "id": "a7dfdbc8",
   "metadata": {},
   "outputs": [
    {
     "data": {
      "image/png": "[encoded data removed]",
      "text/plain": [
       "<Figure size 2000x1500 with 2 Axes>"
      ]
     },
     "metadata": {},
     "output_type": "display_data"
    }
   ],
   "source": [
    "plt.figure(figsize=(20,15))\n",
    "sns.heatmap(df_no_Flabels.corr(method='spearman'),\n",
    "            annot=True, cmap='RdBu')\n",
    "plt.title('Correlation heatmap', fontsize=20)\n",
    "plt.yticks(rotation=0, fontsize = 16)\n",
    "plt.xticks(rotation=-45, ha='left', rotation_mode='anchor', fontsize = 16)\n",
    "plt.savefig(\"heatmap_spearman_out.jpg\")\n",
    "plt.show()"
   ]
  },
  {
   "cell_type": "markdown",
   "id": "2f0abab3",
   "metadata": {},
   "source": [
    "### Performing scaling of the data:\n"
   ]
  },
  {
   "cell_type": "code",
   "execution_count": 10,
   "id": "212766d7",
   "metadata": {},
   "outputs": [],
   "source": [
    "# Scaling data with robust scaler:\n",
    "\n",
    "# Creating robustscaler object:\n",
    "scaler_robust = RobustScaler()\n",
    "\n",
    "# Separating the label from data frame:\n",
    "label = df_w_floats['LABEL']\n",
    "\n",
    "# Fit and transform the feature data:\n",
    "scaled_features = scaler_robust.fit_transform(df_no_Flabels)\n",
    "\n",
    "# Creating new data frame with the scaled features and the label column:\n",
    "df_scaled = pd.DataFrame(scaled_features, columns=df_no_Flabels.columns)\n",
    "df_scaled.insert(0, 'Label', label)\n",
    "\n",
    "# saving the scaled data to csv\n",
    "df_scaled.to_csv(\"tracks_df_scaled.csv\")"
   ]
  },
  {
   "cell_type": "markdown",
   "id": "e3276eef",
   "metadata": {},
   "source": [
    "### Prepering data to clustering:"
   ]
  },
  {
   "cell_type": "markdown",
   "id": "2cdfca22",
   "metadata": {},
   "source": [
    "From further testing the best performance in clustering for this analysis\n",
    "was achived by reducing dimensionality of data set to 2 features and limiting cluster numbers to 2 (all concluded testing is provided in another script free to use) but for checking different purposes all data frame was scaled and the functions will allow changeing the features to perform different outputs. "
   ]
  },
  {
   "cell_type": "markdown",
   "id": "6f2450f6",
   "metadata": {},
   "source": [
    "List of all possible features to use:\n",
    "1. TRACK_MIN_SPEED\n",
    "2. TRACK_MEDIAN_SPEED\n",
    "3. TRACK_STD_SPEED\n",
    "4. TOTAL_DISTANCE_TRAVELED\n",
    "5. CONFINEMENT_RATIO\n",
    "6. MEAN_STRAIGHT_LINE_SPEED\n",
    "7. LINEARITY_OF_FORWARD_PROGRESSION\n",
    "8. MEAN_DIRECTIONA_CHANGE_RATE"
   ]
  },
  {
   "cell_type": "markdown",
   "id": "361eb596",
   "metadata": {},
   "source": [
    "For my analysis best performance was achived by using the features 5 and 7. Please have in considaration that it is possible to change and use of other features may yield different outcome."
   ]
  },
  {
   "cell_type": "code",
   "execution_count": 11,
   "id": "e3337051",
   "metadata": {},
   "outputs": [],
   "source": [
    "# Setting the data frame for K-Means and hierarchical clustering:\n",
    "df_to_clustering = df_scaled[['CONFINEMENT_RATIO', 'MEAN_STRAIGHT_LINE_SPEED']].copy()"
   ]
  },
  {
   "cell_type": "markdown",
   "id": "2841f65f",
   "metadata": {},
   "source": [
    "#### Performing K-Means clustering on fixed parameters:"
   ]
  },
  {
   "cell_type": "code",
   "execution_count": 12,
   "id": "d6e49c64",
   "metadata": {},
   "outputs": [],
   "source": [
    "def perform_k_means_clustering(df):\n",
    "    # Performing kmeans for provided dataframe:\n",
    "    # kmeans_fp - means fixed parameters\n",
    "    kmeans_fp = KMeans(n_clusters = 2, init='k-means++', n_init = 50,\n",
    "                      max_iter = 10000, random_state = 1)\n",
    "    kmeans_fp.fit_predict(df)\n",
    "    \n",
    "    # Getting the labels and centroids:\n",
    "    labels = kmeans_fp.labels_\n",
    "    centroids = kmeans_fp.cluster_centers_\n",
    "    \n",
    "    return labels, centroids "
   ]
  },
  {
   "cell_type": "code",
   "execution_count": 13,
   "id": "426db8aa",
   "metadata": {},
   "outputs": [],
   "source": [
    "def plot_kmeans(labels, data, centroids):\n",
    "    \n",
    "    \"\"\"\n",
    "    Plots the data points and centroids for KMeans clustering.\n",
    "\n",
    "    Args:\n",
    "    labels (numpy.ndarray): The cluster labels for each data point.\n",
    "    data (pandas.DataFrame): The input data used for clustering.\n",
    "    centroids (numpy.ndarray): The centroids of each cluster.\n",
    "\n",
    "    Returns:\n",
    "    None\n",
    "    \"\"\"\n",
    "    try:\n",
    "        # Check that labels are a numpy aray:\n",
    "        if not isinstance(labels, np.ndarray):\n",
    "            raise TypeError('Labels must be a numpy array.')\n",
    "        \n",
    "        # Check that the data is a pandas Data frame:\n",
    "        if not isinstance(data, pd.DataFrame):\n",
    "            raise TypeError('Data must be a pandas DataFrame.')\n",
    "            \n",
    "        # Check that the centroids are a numpy array:\n",
    "        if not isinstance(centroids, np.ndarray):\n",
    "            raise TypeError('Centroids must be a numpay array')\n",
    "            \n",
    "        # Check that the data and the centroids have two columns:\n",
    "        if data.shape[1] != 2 or centroids.shape[1] != 2:\n",
    "            raise ValueError(\"Data and centroids must have two columns\")\n",
    "        \n",
    "        # Creating the scatter plot od the data points:\n",
    "        plt.scatter(data.iloc[:, 0], data.iloc[:, 1], c = labels, cmap = 'viridis')\n",
    "\n",
    "        # Ploting the centroids as black stars:\n",
    "        plt.scatter(centroids[:, 0], centroids[:, 1], c ='black', marker = '*',\n",
    "                   s = 150)\n",
    "\n",
    "        list_of_features = list(data.columns)\n",
    "        # Set the axis:\n",
    "        plt.title(f\"KMeans clustering\\n({list_of_features[0]} vs. {list_of_features[1]})\")\n",
    "        plt.xlabel(list_of_features[0])\n",
    "        plt.ylabel(list_of_features[1])\n",
    "        \n",
    "        # Saving the plot:\n",
    "        plt.savefig(f'kmeans_{list_of_features[0]}_vs_{list_of_features[1]}.png')\n",
    "\n",
    "        # Showing the plot:\n",
    "        plt.show()\n",
    "    \n",
    "    except Exception as e:\n",
    "        print(f\"An error occured: {e}\")"
   ]
  },
  {
   "cell_type": "code",
   "execution_count": 14,
   "id": "2b17e487",
   "metadata": {},
   "outputs": [
    {
     "data": {
      "image/png": "[encoded data removed]",
      "text/plain": [
       "<Figure size 640x480 with 1 Axes>"
      ]
     },
     "metadata": {},
     "output_type": "display_data"
    }
   ],
   "source": [
    "labels, centroids = perform_k_means_clustering(df_to_clustering)\n",
    "plot_kmeans(labels, df_to_clustering, centroids)"
   ]
  },
  {
   "cell_type": "markdown",
   "id": "cafee879",
   "metadata": {},
   "source": [
    "#### Performing hierarchical clustering:"
   ]
  },
  {
   "cell_type": "code",
   "execution_count": 15,
   "id": "dc8070de",
   "metadata": {},
   "outputs": [],
   "source": [
    "def hierarchical_clustering(df: pd.DataFrame):\n",
    "    try:\n",
    "        # Check that the data is a pandas Data frame:\n",
    "        if not isinstance(df, pd.DataFrame):\n",
    "            raise TypeError('Data must be a pandas DataFrame.')\n",
    "            \n",
    "        # Check that the data and the centroids have two columns:\n",
    "        if df.shape[1] != 2:\n",
    "            raise ValueError(\"Data must have two columns\")\n",
    "        \n",
    "        # Calculate the pairwise distance matrix\n",
    "        dist_matrix = linkage(df.values, method='ward', metric='euclidean')\n",
    "        \n",
    "        # Plot the dendrogram:\n",
    "        plt.title(f\"Dendrogram of hierarchical clustering \\n({df.columns[0]} vs. {df.columns[1]})\")\n",
    "        dendrogram(dist_matrix)\n",
    "        plt.xlabel('Data points')\n",
    "        plt.ylabel('Distance')\n",
    "        \n",
    "        # Fit the AgglomerativeClustering model to the data\n",
    "        model = AgglomerativeClustering(n_clusters=2, metric='euclidean', linkage='ward')\n",
    "        model.fit(df)\n",
    "        \n",
    "        # Get the cluster labels from the model\n",
    "        clusters = model.labels_\n",
    "        \n",
    "        plt.savefig(f'dendrogram_{df.columns[0]}_vs_{df.columns[1]}.png')\n",
    "        \n",
    "        return dist_matrix, clusters\n",
    "    \n",
    "    except Exception as e:\n",
    "        print(f\"An error occurs: {e}\")"
   ]
  },
  {
   "cell_type": "code",
   "execution_count": 16,
   "id": "ce92ee7f",
   "metadata": {},
   "outputs": [],
   "source": [
    "def plot_hierarchical_data(df, labels):\n",
    "    try:\n",
    "        # Check that the data is a pandas Data frame:\n",
    "        if not isinstance(df, pd.DataFrame):\n",
    "            raise TypeError('Data must be a pandas DataFrame.')\n",
    "            \n",
    "        # Check that the data and the centroids have two columns:\n",
    "        if df.shape[1] != 2:\n",
    "            raise ValueError(\"Data must have two columns\")\n",
    "            \n",
    "        # Plot the clustered data\n",
    "        plt.scatter(df.iloc[:, 0], df.iloc[:, 1], c = labels, cmap = 'viridis')\n",
    "        plt.xlabel(df.columns[0])\n",
    "        plt.ylabel(df.columns[1])\n",
    "        plt.title(f\"Hierarchical Clustering \\n({df.columns[0]} vs. {df.columns[1]})\")\n",
    "        plt.savefig(f\"hierarchical_{df.columns[0]}_vs_{df.columns[1]}.png\")\n",
    "        plt.show()\n",
    "        \n",
    "    except Exception as e:\n",
    "        print(f\"An error occurs: {e}\") "
   ]
  },
  {
   "cell_type": "code",
   "execution_count": null,
   "id": "3f0ed335",
   "metadata": {},
   "outputs": [],
   "source": [
    "dist_matrix, hierarchical_labels = hierarchical_clustering(df_to_clustering)"
   ]
  },
  {
   "cell_type": "code",
   "execution_count": null,
   "id": "83826698",
   "metadata": {},
   "outputs": [],
   "source": [
    "plot_hierarchical_data(df_to_clustering, hierarchical_labels)"
   ]
  },
  {
   "cell_type": "markdown",
   "id": "a42f694a",
   "metadata": {},
   "source": [
    "#### Sorting the track_names by the clustering group:"
   ]
  },
  {
   "cell_type": "markdown",
   "id": "ab9319f5",
   "metadata": {},
   "source": [
    "##### Kmeans:"
   ]
  },
  {
   "cell_type": "code",
   "execution_count": null,
   "id": "90e47349",
   "metadata": {},
   "outputs": [],
   "source": [
    "def get_kmeans_groups(df_w_track_names, cluster_labels):\n",
    "    df = pd.DataFrame(df_w_track_names['Label'].copy())\n",
    "    df['Cluster_labels'] = cluster_labels\n",
    "    \n",
    "    # Group the data by the cluster_labels column and get the list of track names\n",
    "    # for each cluster:\n",
    "    cluster_dict = df.groupby('Cluster_labels')['Label'].apply(list).to_dict()\n",
    "    \n",
    "    return cluster_dict"
   ]
  },
  {
   "cell_type": "code",
   "execution_count": null,
   "id": "dc2bfc26",
   "metadata": {},
   "outputs": [],
   "source": [
    "kmeans_dict = get_kmeans_groups(df_scaled, labels)"
   ]
  },
  {
   "cell_type": "markdown",
   "id": "8080d439",
   "metadata": {},
   "source": [
    "##### Hierarchical:"
   ]
  },
  {
   "cell_type": "code",
   "execution_count": null,
   "id": "88e2ac44",
   "metadata": {},
   "outputs": [],
   "source": [
    "def get_hierarchical_groups(df_w_track_names, hierarchical_labels):\n",
    "    df = pd.DataFrame(df_w_track_names['Label'].copy())\n",
    "    df['Cluster_labels'] = hierarchical_labels\n",
    "    \n",
    "    # Group the data by the cluster_labels column and get the list of track names\n",
    "    # for each cluster:\n",
    "    cluster_dict = df.groupby('Cluster_labels')['Label'].apply(list).to_dict()\n",
    "    \n",
    "    return cluster_dict"
   ]
  },
  {
   "cell_type": "code",
   "execution_count": null,
   "id": "ef36250f",
   "metadata": {},
   "outputs": [],
   "source": [
    "hierarchical_dict = get_hierarchical_groups(df_scaled, hierarchical_labels)"
   ]
  },
  {
   "cell_type": "markdown",
   "id": "abbf69f1",
   "metadata": {},
   "source": [
    "#### Creating data frames with columns taken to the clustring and their label values:"
   ]
  },
  {
   "cell_type": "code",
   "execution_count": null,
   "id": "1f44e7c2",
   "metadata": {},
   "outputs": [],
   "source": [
    "# For Kmeans:\n",
    "df_after_kmeans = pd.DataFrame(df_to_clustering.copy())\n",
    "df_after_kmeans['Cluster_labels'] = labels\n",
    "\n",
    "# For hierarchical:\n",
    "df_after_hierarchical = pd.DataFrame(df_to_clustering.copy())\n",
    "df_after_hierarchical['Cluster_labels'] = hierarchical_labels"
   ]
  },
  {
   "cell_type": "markdown",
   "id": "d69669bf",
   "metadata": {},
   "source": [
    "### Comparison the groups after clustering:"
   ]
  },
  {
   "cell_type": "markdown",
   "id": "bd25fbfe",
   "metadata": {},
   "source": [
    "#### Performing pie plot of the clusters after kmeans"
   ]
  },
  {
   "cell_type": "code",
   "execution_count": null,
   "id": "b1228f24",
   "metadata": {},
   "outputs": [],
   "source": [
    "from collections import Counter\n",
    "\n",
    "def plot_clusters_pie(cluster_dict: dict, algorithm_name: str):\n",
    "    try:\n",
    "        # Count the number of elements in each cluster:\n",
    "        cluster_counts = Counter({k: len(v) for k, v in cluster_dict.items()})\n",
    "        \n",
    "        # Create a pie plot:\n",
    "        labels = [f'Clusters {k}' for k in cluster_counts.keys()]\n",
    "        sizes = list(cluster_counts.values())\n",
    "        \n",
    "        # Setting to show the number of tracks in each group:\n",
    "        def autopct_func(pct):\n",
    "            total = sum(cluster_counts.values())\n",
    "            count = int(round(pct*total/100))\n",
    "            return f'{pct:.1f}%\\n({count})'\n",
    "        \n",
    "        plt.pie(sizes, labels = labels, autopct = autopct_func)\n",
    "        plt.axis('equal')\n",
    "        plt.title(f'Group distribution after {algorithm_name}')\n",
    "        plt.savefig(f'pie_plot_of_{algorithm_name}_groups.png')\n",
    "        plt.show()\n",
    "        \n",
    "    except Exception as e:\n",
    "        print(f\"An error occurred: {e}\")\n",
    "    finally:\n",
    "        plt.close()"
   ]
  },
  {
   "cell_type": "code",
   "execution_count": null,
   "id": "cd0081c4",
   "metadata": {},
   "outputs": [],
   "source": [
    "plot_clusters_pie(kmeans_dict, 'Kmeans')"
   ]
  },
  {
   "cell_type": "code",
   "execution_count": null,
   "id": "6fe92f34",
   "metadata": {},
   "outputs": [],
   "source": [
    "plot_clusters_pie(hierarchical_dict, 'Hierarchical')"
   ]
  },
  {
   "cell_type": "markdown",
   "id": "414447e7",
   "metadata": {},
   "source": [
    "#### Comparing the cluster groups:"
   ]
  },
  {
   "cell_type": "code",
   "execution_count": null,
   "id": "134d4677",
   "metadata": {},
   "outputs": [],
   "source": [
    "def compare_dicts(dict1, dict2):\n",
    "    try:\n",
    "        # get the common keys from both dictionaries\n",
    "        common_keys = set(dict1.keys()) & set(dict2.keys())\n",
    "\n",
    "        # compare the values of each common key\n",
    "        for key in common_keys:\n",
    "            if dict1[key] != dict2[key]:\n",
    "                # find the differences between the two lists\n",
    "                set1 = set(dict1[key])\n",
    "                set2 = set(dict2[key])\n",
    "                differences = set1.symmetric_difference(set2)\n",
    "\n",
    "                # print the key and the differing values\n",
    "                print(f\"Differences in group {key}:\")\n",
    "                for val in differences:\n",
    "                    if val in set1 and val not in set2:\n",
    "                        print(f\"Value '{val}' only in first dictionary\")\n",
    "                    elif val in set2 and val not in set1:\n",
    "                        print(f\"Value '{val}' only in second dictionary\")\n",
    "            else:\n",
    "                print(f\"Group {key} is identical in both dictionaries\")\n",
    "\n",
    "        # print the keys that are only present in one dictionary\n",
    "        keys_only_in_dict1 = set(dict1.keys()) - common_keys\n",
    "        keys_only_in_dict2 = set(dict2.keys()) - common_keys\n",
    "        if keys_only_in_dict1:\n",
    "            print(f\"The following groups are only in the first dictionary: {keys_only_in_dict1}\")\n",
    "        if keys_only_in_dict2:\n",
    "            print(f\"The following groups are only in the second dictionary: {keys_only_in_dict2}\")\n",
    "    except Exception as e:\n",
    "        print(f\"An errot occured: {e}\")"
   ]
  },
  {
   "cell_type": "code",
   "execution_count": null,
   "id": "9ec9093c",
   "metadata": {},
   "outputs": [],
   "source": [
    "# Calling compare dicts to chcek the differences in the cluster groups:\n",
    "compare_dicts(kmeans_dict, hierarchical_dict)"
   ]
  },
  {
   "cell_type": "markdown",
   "id": "3c2003bf",
   "metadata": {},
   "source": [
    "#### Comparing features accros the clusters:"
   ]
  },
  {
   "cell_type": "code",
   "execution_count": null,
   "id": "27b22a67",
   "metadata": {},
   "outputs": [],
   "source": [
    "def plot_boxplot_sns(df, algorithm_name: str):\n",
    "    try:\n",
    "        # Check that the data is a pandas Data frame:\n",
    "        if not isinstance(df, pd.DataFrame):\n",
    "            raise TypeError('Data must be a pandas DataFrame.')\n",
    "\n",
    "        # Getting the names of the features to avoid hard coding the names:\n",
    "        feature_names = list(df.columns)\n",
    "\n",
    "        fig, axs = plt.subplots(1, 2, figsize=(10, 5))\n",
    "        data_0 = df[df[str(feature_names[2])] == 0][[str(feature_names[0]), str(feature_names[1])]]\n",
    "        data_1 = df[df[str(feature_names[2])] == 1][[str(feature_names[0]), str(feature_names[1])]]\n",
    "\n",
    "        # Calculating the standard deviation for whiskers:\n",
    "        std_0 = data_0.std().values\n",
    "        std_1 = data_1.std().values\n",
    "\n",
    "        axs[0] = sns.boxplot(data=[data_0[str(feature_names[0])], data_1[str(feature_names[0])]], \n",
    "                             ax=axs[0], notch=True, whis=(std_0[0], std_0[0]) )\n",
    "        axs[1] = sns.boxplot(data=[data_0[str(feature_names[1])], data_1[str(feature_names[1])]], \n",
    "                             ax=axs[1], notch=True, whis=(std_1[0], std_1[0]) )\n",
    "\n",
    "        axs[0].set_title(f\"{feature_names[0]} by Cluster\")\n",
    "        axs[1].set_title(f\"{feature_names[1]} by Cluster\")\n",
    "        plt.savefig(f'{algorithm_name}_feature_boxplot.png')\n",
    "        \n",
    "        plt.show()\n",
    "        \n",
    "    except Exception as e:\n",
    "        print(f\"An error occured: {e}\")"
   ]
  },
  {
   "cell_type": "markdown",
   "id": "11db8d0e",
   "metadata": {},
   "source": [
    "When using the parameter whis with a tuple of the same value for the upper and lower whiskers, such as whis=(std_0[0], std_0[0]), the upper whisker may not be visible if there are any outliers above the upper whisker. This is because the upper whisker is drawn to the maximum data point within the whisker length, which is determined by the range of the data and the specified whis value. However, if there are any data points beyond the upper whisker length, they will be plotted as outliers, and the upper whisker will not be visible."
   ]
  },
  {
   "cell_type": "code",
   "execution_count": null,
   "id": "8eb9cbff",
   "metadata": {},
   "outputs": [],
   "source": [
    "plot_boxplot_sns(df_after_kmeans, 'kmeans')"
   ]
  },
  {
   "cell_type": "code",
   "execution_count": null,
   "id": "7695dfa8",
   "metadata": {},
   "outputs": [],
   "source": [
    "plot_boxplot_sns(df_after_hierarchical, 'hierarchical')"
   ]
  },
  {
   "cell_type": "markdown",
   "id": "6c063d73",
   "metadata": {},
   "source": [
    "### Preapring spots data frame from raw:"
   ]
  },
  {
   "cell_type": "code",
   "execution_count": null,
   "id": "21ee2e58",
   "metadata": {},
   "outputs": [],
   "source": [
    "# Now there should be added the parsing of the spots data frame to\n",
    "# aquire the gruped df of the tracks with all the points accros\n",
    "# it's movement."
   ]
  },
  {
   "cell_type": "code",
   "execution_count": null,
   "id": "cf3774e1",
   "metadata": {},
   "outputs": [],
   "source": [
    "# Creating data frame with the track label, start_pos, end_pos, track_id\n",
    "df_track_start_end_info = raw_data[['LABEL', 'TRACK_ID', \n",
    "                                'TRACK_START', 'TRACK_STOP']].copy()\n",
    "\n",
    "# Droping unnecessary rows:\n",
    "df_track_start_end_info.drop(df_track_start_end_info.index[[0,1,2]],\n",
    "                              inplace = True)\n",
    "\n",
    "# Reseting index of the whole data frame:\n",
    "df_track_start_end_info.reset_index(level = None, drop=True, inplace = True)\n",
    "\n",
    "# Setting proper types of the cells:\n",
    "df_start_end_tracks = df_track_start_end_info.iloc[:, 1:4].apply(pd.to_numeric)\n",
    "df_start_end_tracks['Label'] = df_track_start_end_info['LABEL'].astype('string')\n",
    "\n",
    "# Performing operations on the .csv file with the information about spots:\n",
    "df_only_spots = raw_data_spots[['TRACK_ID', 'POSITION_X', 'POSITION_Y',\n",
    "                                'POSITION_T', 'FRAME']].copy()\n",
    "\n",
    "# Droping unnecesary rows:\n",
    "df_only_spots.drop(df_only_spots.index[[0,1,2]], inplace=True)\n",
    "\n",
    "# Reseting the index of the whole data frame:\n",
    "df_only_spots.reset_index(level=None, drop=True, inplace = True)\n",
    "\n",
    "# Setting proper types:\n",
    "df_all_spots = df_only_spots.iloc[:, 0:5].apply(pd.to_numeric)"
   ]
  },
  {
   "cell_type": "code",
   "execution_count": null,
   "id": "96fb0b79",
   "metadata": {},
   "outputs": [],
   "source": [
    "# Joining two tables on track_id:\n",
    "df_spots_merged = pd.merge(df_start_end_tracks, df_all_spots, how = 'inner',\n",
    "                          on='TRACK_ID',\n",
    "                          suffixes=['','_'])[['Label', 'TRACK_ID', 'TRACK_START',\n",
    "                                             'TRACK_STOP', 'FRAME', 'POSITION_X',\n",
    "                                             'POSITION_Y', 'POSITION_T']]"
   ]
  },
  {
   "cell_type": "code",
   "execution_count": null,
   "id": "9f9e490f",
   "metadata": {},
   "outputs": [],
   "source": [
    "# Sorting merged data frame by the time position for each track:\n",
    "gruped_tracks = df_spots_merged.sort_values(['TRACK_ID','POSITION_T'],ascending=True).groupby('TRACK_ID', group_keys=False)\n",
    "sorted_tracks_df = gruped_tracks.apply(lambda x: x)\n",
    "sorted_tracks_df.head()"
   ]
  },
  {
   "cell_type": "code",
   "execution_count": null,
   "id": "714d1070",
   "metadata": {},
   "outputs": [],
   "source": [
    "# After this there should be added function to generating points in straight\n",
    "# line from the start and finish x,y coords of the tracks"
   ]
  },
  {
   "cell_type": "code",
   "execution_count": null,
   "id": "6307847d",
   "metadata": {},
   "outputs": [],
   "source": [
    "# Making dictionary out of the sorted spots data frame:\n",
    "def track_positions_dict(spots_df):\n",
    "    try:\n",
    "        # checking if provided variable is a data fream\n",
    "        if not isinstance(spots_df, pd.DataFrame):\n",
    "            raise TypeError('Data must be a pandas DataFrame.')\n",
    "        \n",
    "        # Grouping data from data frame by the track_name:\n",
    "        grouped_data = spots_df.groupby('Label')\n",
    "        \n",
    "        # creating the dictionary with the track name and all its pos_x, \n",
    "        # pos_y as tuples:\n",
    "        result_dict = {name: list(zip(group['POSITION_X'], group['POSITION_Y'])) for name, group in grouped_data}\n",
    "        \n",
    "        # returning the result:\n",
    "        return result_dict\n",
    "    except Exception as e:\n",
    "        print(f'An error occurs: {e}')"
   ]
  },
  {
   "cell_type": "code",
   "execution_count": null,
   "id": "012e3e65",
   "metadata": {},
   "outputs": [],
   "source": [
    "# Calling function to generate the dictionary of position in track:\n",
    "track_positions_dict = track_positions_dict(sorted_tracks_df)\n",
    "\n",
    "# Testing the generated dictionary:\n",
    "# track_positions_dict['Track_0']"
   ]
  },
  {
   "cell_type": "code",
   "execution_count": null,
   "id": "c93aa272",
   "metadata": {},
   "outputs": [],
   "source": [
    "# Function generating coordinates in straight line to the start, end\n",
    "# coordinates of a track:\n",
    "def generating_points_in_line(x_A, y_A, x_B, y_B, n_samples):\n",
    "    try:\n",
    "        # Chceking if provided coordinates are in vertical line:\n",
    "        if x_A == x_B: # vertical line\n",
    "            y_values = [y_A + i*(y_B-y_A)/(n_samples-1) for i in range(n_samples)]\n",
    "            x_values = [x_A] * n_samples\n",
    "        \n",
    "        else: # non-vertical line\n",
    "            x_values = [x_A + i*(x_B-x_A)/(n_samples-1) for i in range(n_samples)]\n",
    "            y_values = [y_A + i*(y_B-y_A)/(n_samples-1) for i in range(n_samples)]\n",
    "\n",
    "        # make sure first and last points are (x_A, y_A) and (x_B, y_B) respectively\n",
    "        x_values[0] = x_A\n",
    "        y_values[0] = y_A\n",
    "        x_values[-1] = x_B\n",
    "        y_values[-1] = y_B\n",
    "\n",
    "        # create a list of tuples representing the generated points\n",
    "        points = [(x_values[i], y_values[i]) for i in range(n_samples)]\n",
    "\n",
    "        return points\n",
    "    except Exception as e:\n",
    "        print(f'An error occurs: {e}')"
   ]
  },
  {
   "cell_type": "code",
   "execution_count": null,
   "id": "28ce72e8",
   "metadata": {},
   "outputs": [],
   "source": [
    "def generate_straight_line_for_all_tracks(tracks_dict: dict, df_start_end_tracks):\n",
    "    try:\n",
    "        # Setting the dictionary to stroe output of positions\n",
    "        # and the name of track:\n",
    "        track_in_line_pos_dict = {}\n",
    "        \n",
    "        # Iterate throught the tracks_dict keys:\n",
    "        for name in tracks_dict.keys():\n",
    "            # Setting the name variable:\n",
    "            track_name = str(name)\n",
    "            \n",
    "            # Cacluclating the number of frames from start to finish of movement:\n",
    "            df = df_start_end_tracks.copy()\n",
    "            df = df.set_index('Label')\n",
    "            start_frame = df.loc[track_name, 'TRACK_START'].astype('int32')\n",
    "            end_frame = df.loc[track_name, 'TRACK_STOP'].astype('int32')\n",
    "            \n",
    "            # There have to be +1 addition in case to get all occurances \n",
    "            # of moving from first frame to last for example if track\n",
    "            # starts moving in 0 frame and end in 200 frame function need\n",
    "            # to generate 201 positions to cover all movemnt frames:\n",
    "            move_frames = (end_frame-start_frame) + 1\n",
    "            \n",
    "            # Getting start and end coordinates:\n",
    "            list_of_coords = tracks_dict[track_name]\n",
    "            start_coords = list_of_coords[0]\n",
    "            end_coords = list_of_coords[-1]\n",
    "            \n",
    "            # setting the start position variables:\n",
    "            start_x, start_y = start_coords\n",
    "            \n",
    "            # setting the end positions:\n",
    "            end_x, end_y = end_coords\n",
    "            \n",
    "            # Calling function to generate points in line to return each positions:\n",
    "            tracks_move_in_line_list = generating_points_in_line(start_x, start_y, end_x, end_y, move_frames)\n",
    "            \n",
    "            # Adding all the lists to dict with the proper track names:\n",
    "            track_in_line_pos_dict[str(name)]= tracks_move_in_line_list\n",
    "            \n",
    "        return track_in_line_pos_dict\n",
    "    \n",
    "    except Exception as e:\n",
    "        print(f'An error occurs: {e}')"
   ]
  },
  {
   "cell_type": "code",
   "execution_count": null,
   "id": "205392fd",
   "metadata": {},
   "outputs": [],
   "source": [
    "# Calling function to generate the line positions for all tracks:\n",
    "straight_tracks_dict = generate_straight_line_for_all_tracks(track_positions_dict, df_start_end_tracks)\n",
    "\n",
    "# Test checking of dictionary:\n",
    "#straight_tracks_dict['Track_0']"
   ]
  },
  {
   "cell_type": "markdown",
   "id": "91dc7657",
   "metadata": {},
   "source": [
    "### Functions calculating distances:"
   ]
  },
  {
   "cell_type": "markdown",
   "id": "85725534",
   "metadata": {},
   "source": [
    "#### Function calculating total euclidean distance:\n",
    "\n",
    "In simpler terms function will compare the each coordinate x,y points with the generated linear cunterpart generated inprevious steps. This functions need to get the trajectories of the same length. In the proces it calculates the euclidean distance with each point and add them together. Overall return the total euclidean distance. Total distance is the sum of all the distances calculated during operation among the points of both tracks. \n",
    "\n",
    "If the two compared trajectories are the same then total distance returned should be zero. Overall distance obtained describes the differences in realtion to the trajectory, which is a straight line with the same start nad end points as the analyzed path. "
   ]
  },
  {
   "cell_type": "code",
   "execution_count": null,
   "id": "31cef195",
   "metadata": {},
   "outputs": [],
   "source": [
    "import math\n",
    "# Function performing euclidean distance:\n",
    "def euclidean_distance(p1, p2):\n",
    "    '''\n",
    "    Calculate the Euclidean distance between two points.\n",
    "    '''\n",
    "    return math.sqrt((p2[0] - p1[0])**2 + (p2[1] - p1[1])**2)\n",
    "\n",
    "# Function performing total euclidean distance calculations:\n",
    "def total_euclidean_distance(first_list_of_points, second_list_of_points):\n",
    "    \"\"\"\n",
    "    Calculate the total Euclidean distance between a series of points.\n",
    "    \"\"\"\n",
    "    if len(first_list_of_points) != len(second_list_of_points):\n",
    "        raise ValueError('The two series of points have different lengths')\n",
    "    else:\n",
    "        distance = 0\n",
    "        for i in range(len(first_list_of_points)):\n",
    "            distance += euclidean_distance(first_list_of_points[i], second_list_of_points[i])\n",
    "        \n",
    "    return distance\n",
    "\n",
    "# Function performing extracting lists of series of points and calling \n",
    "# functions calculating distance, returning the dictionari with names\n",
    "# as keys and values of distance as the value:\n",
    "def euclidean_comparison_original_straight(tracks_dict: dict, straight_tracks_dict: dict):\n",
    "    # Check if the provided dictionaries have the same names of track to avoid false comparision:\n",
    "    try: \n",
    "        list_of_track_names = list(tracks_dict.keys())\n",
    "        \n",
    "        list_of_straight_tracks_names = list(straight_tracks_dict.keys())\n",
    "    except Exception as e:\n",
    "        print(f'An error occurred: {e}')\n",
    "    \n",
    "    # Checking if the lists have the same content:\n",
    "    try:\n",
    "        # Dictionary for return the values of distance and track_names:\n",
    "        result_dict = {}\n",
    "        \n",
    "        set1 = set(list_of_track_names)\n",
    "        set2 = set(list_of_straight_tracks_names)\n",
    "        if set1 == set2:\n",
    "            for name in set1:\n",
    "                track_series = tracks_dict[name]\n",
    "                straight_line_series = straight_tracks_dict[name]\n",
    "                total_distance = total_euclidean_distance(track_series, straight_line_series)\n",
    "                \n",
    "                # Commenting wokring print (not needed but still usefull):\n",
    "                # print(f'Total euclidean distance of {name} track and \\nits linear generation: {total_distance}')\n",
    "                result_dict[str(name)] = float(total_distance)\n",
    "                \n",
    "        else:\n",
    "            print(\"Provided sets differ which means there could be error in generating points.\")\n",
    "        \n",
    "        return result_dict\n",
    "    except Exception as e:\n",
    "        print(f'An error occurred: {e}')"
   ]
  },
  {
   "cell_type": "code",
   "execution_count": null,
   "id": "028d7a30",
   "metadata": {},
   "outputs": [],
   "source": [
    "euclidean_comp_dict = euclidean_comparison_original_straight(track_positions_dict,\n",
    "                                           straight_tracks_dict)\n",
    "# Test checking:\n",
    "# euclidean_comp_dict['Track_0']"
   ]
  },
  {
   "cell_type": "markdown",
   "id": "a28b3673",
   "metadata": {},
   "source": [
    "#### Function performing Dynaming Time Warping:\n",
    "\n",
    "Algorithm DTW finds optimal aligment beetwen two provided trajectories by matchin each point of one trajectory to the corresponding point of the other. \n",
    "\n",
    "The output of function is the distance between trajectories and optimal aligment between two trajectories. "
   ]
  },
  {
   "cell_type": "code",
   "execution_count": null,
   "id": "3aa9d7e3",
   "metadata": {},
   "outputs": [],
   "source": [
    "from typing import Dict, List, Tuple\n",
    "from dtw import *\n",
    "from scipy.spatial.distance import euclidean\n",
    "\n",
    "def dtw_comparison_original_straight(tracks_dict: Dict[str, List[Tuple[float, float]]], straight_tracks_dict: Dict[str, List[Tuple[float, float]]]) -> Dict[str, float]:\n",
    "    '''\n",
    "    Function calculates the distance with the DTW (Dinamic Time Warping) algorithm.\n",
    "    Distance is calculated from provided dictionaries containing the track name, list of \n",
    "    coordinates in the from of tuple for both original and lineary generated trajectories. \n",
    "    \n",
    "    Args:\n",
    "    - tracks_dict (dict): Dictionary with track name and the list of coordinates from start to finish of movement in form of tuple\n",
    "    - straight_tracks_dict (dict): Same as tracks_dict but contains generated trajectories which are linear and have the same number of \n",
    "        points as original trajectories\n",
    "        \n",
    "    Returns:\n",
    "    - resutl_dict (dict): Dictionary containing the values of the distance calcualted by DTW, which describes the distance of original trajectory\n",
    "        to their linear cunterpart generated in previous steps. \n",
    "    '''\n",
    "    try:\n",
    "        # Setting dict for the results\n",
    "        result_dict = {}\n",
    "        \n",
    "        # Iterating throught the dict_keys both dicts contains the same \n",
    "        # keys in it:\n",
    "        for name in tracks_dict.keys():\n",
    "            if name in straight_tracks_dict.keys():\n",
    "                x = tracks_dict[name]\n",
    "                y = straight_tracks_dict[name]\n",
    "                ds = dtw(x, y, dist_method='euclidean')\n",
    "                \n",
    "                # Returnig of the DTW result distance for each trajectory\n",
    "                # to their linear cunterpart\n",
    "                result_dict[name] = ds.distance\n",
    "            else:\n",
    "                print(f\"Warning: no straight track found for {name}\")\n",
    "\n",
    "        return result_dict\n",
    "    \n",
    "    except Exception as e:\n",
    "        print(f'An error occurs: {e}')"
   ]
  },
  {
   "cell_type": "code",
   "execution_count": null,
   "id": "057122ee",
   "metadata": {},
   "outputs": [],
   "source": [
    "dtw_dict = dtw_comparison_original_straight(track_positions_dict,\n",
    "                                            straight_tracks_dict)\n",
    "# Testing the output:\n",
    "# dtw_dict"
   ]
  },
  {
   "cell_type": "markdown",
   "id": "302888da",
   "metadata": {},
   "source": [
    "#### Comparing the values of distances to the linear trajectory:"
   ]
  },
  {
   "cell_type": "code",
   "execution_count": null,
   "id": "9d3af2b9",
   "metadata": {},
   "outputs": [],
   "source": [
    "# Comparing distances into single data frame:\n",
    "df_distances_to_linear = pd.DataFrame(list(euclidean_comp_dict.values()),\n",
    "                                      index=euclidean_comp_dict.keys(),\n",
    "                                      columns=['Euclidean_distance'])\n",
    "\n",
    "# Creating new series from dtw_dictionary:\n",
    "dtw_distance = pd.Series(dtw_dict, name = 'DTW_distance')\n",
    "\n",
    "# Adding new column\n",
    "df_distances_to_linear = pd.concat([df_distances_to_linear, dtw_distance], axis = 1)\n",
    "\n",
    "# Saving data frame to the .csv file\n",
    "df_distances_to_linear.to_csv('distances_after_clustering.csv')"
   ]
  },
  {
   "cell_type": "code",
   "execution_count": null,
   "id": "76cc93c6",
   "metadata": {},
   "outputs": [],
   "source": [
    "def assign_clusters_to_df(df, cluster_dict, column_name):\n",
    "    \"\"\"\n",
    "    Assigns binary values to each track based on their cluster membership\n",
    "    as given in the cluster_dict and adds a new column to the DataFrame\n",
    "    \n",
    "    Args:\n",
    "    df (pd.DataFrame): The DataFrame to which the cluster labels are to be added\n",
    "    cluster_dict (dict): A dictionary containing the cluster membership of each track\n",
    "    column_name (str): The name of the new column to be added\n",
    "    \n",
    "    Returns:\n",
    "    pd.DataFrame: The updated DataFrame with a new column added containing the cluster labels\n",
    "    \"\"\"\n",
    "    # Create a new column named kmeans_clusters filled with 0\n",
    "    df[column_name] = 0\n",
    "    \n",
    "    # Iterate through each cluster in the dictionary\n",
    "    for k, v in cluster_dict.items():\n",
    "        # Get the index of the tracks in the current cluster\n",
    "        cluster_idx = df.index.isin(v)\n",
    "        # Assign 1 to the kmeans_clusters column for tracks in the current cluster\n",
    "        df.loc[cluster_idx, column_name] = k\n",
    "        \n",
    "    return df"
   ]
  },
  {
   "cell_type": "code",
   "execution_count": null,
   "id": "f9736f20",
   "metadata": {},
   "outputs": [],
   "source": [
    "# Calling with the kmeans_dict:\n",
    "df_distances_to_linear = assign_clusters_to_df(df_distances_to_linear,\n",
    "                                               kmeans_dict,\n",
    "                                               'kmeans_clusters')\n",
    "# Calling with the hierarchical_dict:\n",
    "df_distances_to_linear = assign_clusters_to_df(df_distances_to_linear,\n",
    "                                               hierarchical_dict,\n",
    "                                               'hierarchical_clusters')\n",
    "\n",
    "# Saving data frame to the .csv file\n",
    "df_distances_to_linear.to_csv('distances_after_clustering_assigned.csv')"
   ]
  },
  {
   "cell_type": "code",
   "execution_count": null,
   "id": "dbbac50f",
   "metadata": {},
   "outputs": [],
   "source": [
    "df_distances_to_linear"
   ]
  },
  {
   "cell_type": "markdown",
   "id": "7b7f0451",
   "metadata": {},
   "source": [
    "#### Comapring distances among the groups from clustering:"
   ]
  },
  {
   "cell_type": "code",
   "execution_count": null,
   "id": "cfa628f5",
   "metadata": {},
   "outputs": [],
   "source": [
    "def cluster_distance_stats(cluster_dict: dict, df: pd.DataFrame):\n",
    "    \"\"\"\n",
    "    Calculates the mean, median, and standard deviation of distance values for each cluster\n",
    "    in the provided dictionary of cluster labels and track names\n",
    "\n",
    "    Args:\n",
    "    - cluster_dict (dict): Dictionary with cluster labels as keys and lists of track names as values\n",
    "    - df (pandas.DataFrame): DataFrame with distance values for each track\n",
    "\n",
    "    Returns:\n",
    "    - stats_dict (dict): Dictionary with cluster labels as keys and a tuple of mean, median, and\n",
    "                         standard deviation of distance values for each cluster as values\n",
    "    \"\"\"\n",
    "    try:\n",
    "        # Check if the 'Euclidean_distance' and 'DTW_distance' columns are present in the data frame\n",
    "        if 'Euclidean_distance' not in df.columns or 'DTW_distance' not in df.columns:\n",
    "            raise ValueError(\"Data frame does not have the required distance columns.\")\n",
    "\n",
    "        stats_dict = {}\n",
    "\n",
    "        for cluster_label, track_list in cluster_dict.items():\n",
    "            # Select the rows of the DataFrame corresponding to the tracks in the current cluster\n",
    "            cluster_df = df.loc[track_list]\n",
    "\n",
    "            # Calculate the mean, median, and standard deviation of the distance values for the current cluster\n",
    "            euclidean_mean = np.mean(cluster_df['Euclidean_distance'])\n",
    "            euclidean_median = np.median(cluster_df['Euclidean_distance'])\n",
    "            euclidean_std = np.std(cluster_df['Euclidean_distance'])\n",
    "\n",
    "            dtw_mean = np.mean(cluster_df['DTW_distance'])\n",
    "            dtw_median = np.median(cluster_df['DTW_distance'])\n",
    "            dtw_std = np.std(cluster_df['DTW_distance'])\n",
    "\n",
    "            # Add the mean, median, and standard deviation to the dictionary for the current cluster\n",
    "            # in form of dictionaries of each distance taken:\n",
    "            stats_dict[cluster_label] = {\n",
    "                'euclidean' : {'mean': euclidean_mean, 'median': euclidean_median,\n",
    "                              'std': euclidean_std},\n",
    "                'dtw': {'mean': dtw_mean, 'median': dtw_median, 'std': dtw_std}\n",
    "            }\n",
    "            #stats_dict[cluster_label] = ((euclidean_mean, euclidean_median, euclidean_std),\n",
    "            #                             (dtw_mean, dtw_median, dtw_std))\n",
    "\n",
    "        return stats_dict\n",
    "    \n",
    "    except Eception as e:\n",
    "        print(f'An error occurs: {e}')"
   ]
  },
  {
   "cell_type": "code",
   "execution_count": null,
   "id": "a382502a",
   "metadata": {},
   "outputs": [],
   "source": [
    "# Calling the function to get the statistics of the distances for each cluster:\n",
    "kmeans_groups_stats = cluster_distance_stats(kmeans_dict,\n",
    "                                             df_distances_to_linear)\n",
    "# Checking the content of dictionary:\n",
    "# kmeans_groups_stats\n",
    "\n",
    "# Performing the same operation for the hierarchical cluster dictionary:\n",
    "hierarchical_groups_stats = cluster_distance_stats(hierarchical_dict,\n",
    "                                                  df_distances_to_linear)"
   ]
  },
  {
   "cell_type": "code",
   "execution_count": null,
   "id": "7b31bf5c",
   "metadata": {},
   "outputs": [],
   "source": [
    "def group_tracks_by_cluster(df: pd.DataFrame, cluster_column: str):\n",
    "    \"\"\"\n",
    "    Groups the tracks in the DataFrame by the cluster label in the specified column.\n",
    "    \n",
    "    Parameters:\n",
    "        df (pandas.DataFrame): The DataFrame containing the tracks and their cluster labels.\n",
    "        cluster_column (str): The name of the column containing the cluster labels.\n",
    "    \n",
    "    Returns:\n",
    "        dict: A dictionary where the keys are cluster labels (as integers) and the values are dictionaries\n",
    "              where the keys are the track indices and the values are dictionaries where the keys are\n",
    "              'Euclidean_distance' and 'DTW_distance' and the values are the corresponding distances.\n",
    "    \"\"\"\n",
    "    try:\n",
    "        # Create an empty dictionary to store the clusters\n",
    "        clusters = {}\n",
    "\n",
    "        # Iterate through each row in the DataFrame\n",
    "        for index, row in df.iterrows():\n",
    "            # Get the cluster label for the current track\n",
    "            cluster_label = int(row[cluster_column])\n",
    "\n",
    "            # Check if the current cluster label already exists in the dictionary\n",
    "            if cluster_label not in clusters:\n",
    "                # If it doesn't exist, create a new dictionary for the current cluster label\n",
    "                clusters[cluster_label] = {}\n",
    "\n",
    "            # Add a dictionary containing the Euclidean and DTW distances to the dictionary for the current track\n",
    "            clusters[cluster_label][index] = {\n",
    "                'Euclidean_distance': row['Euclidean_distance'],\n",
    "                'DTW_distance': row['DTW_distance']\n",
    "            }\n",
    "\n",
    "        return clusters \n",
    "    \n",
    "    except Exception as e:\n",
    "        print(f'An error occurs: {e}')"
   ]
  },
  {
   "cell_type": "code",
   "execution_count": null,
   "id": "ca18ddb1",
   "metadata": {},
   "outputs": [],
   "source": [
    "# Calling of the function to get the distances dictionaries:\n",
    "kmeans_groups_distances = group_tracks_by_cluster(df_distances_to_linear, \n",
    "                                                 'kmeans_clusters')\n",
    "\n",
    "# Calling same function to get hierarchical groups:\n",
    "hierarchical_groups_distances = group_tracks_by_cluster(df_distances_to_linear,\n",
    "                                                       'hierarchical_clusters')"
   ]
  },
  {
   "cell_type": "markdown",
   "id": "c679ef76",
   "metadata": {},
   "source": [
    "#### Ploting the metrics of distances among the cluster groups:"
   ]
  },
  {
   "cell_type": "code",
   "execution_count": null,
   "id": "dde2c6a6",
   "metadata": {},
   "outputs": [],
   "source": [
    "def plot_dict_w_stats(dict_w_stats: dict, algorithm_name: str):\n",
    "    '''\n",
    "    Plot the metrics (mean, median, std) of the distances among groups\n",
    "    \n",
    "    Args:\n",
    "    - dict_w_stats - dictionary of dictionary containing the statistics calculated\n",
    "        for distances\n",
    "    - algorithm_name - string containing the name of the algorithm used should be in pair\n",
    "        with the used dictionary to avoid confusing output\n",
    "    \n",
    "    Returns:\n",
    "    - None, function is performing plotting operation and seving the figure as .png file\n",
    "    '''\n",
    "    try:\n",
    "        # define the x-axis labels\n",
    "        x_labels = ['euclidean_mean', 'euclidean_median', 'euclidean_std',\n",
    "                    'dtw_mean', 'dtw_median', 'dtw_std']\n",
    "\n",
    "        # define the x-axis positions for each label\n",
    "        x_pos = np.arange(len(x_labels))\n",
    "\n",
    "        # define the width of each bar\n",
    "        bar_width = 0.2\n",
    "\n",
    "        # create a figure and axis object\n",
    "        fig, ax = plt.subplots()\n",
    "\n",
    "        # plot the data for each group\n",
    "        for i, (cluster_label, stats_dict) in enumerate(dict_w_stats.items()):\n",
    "            # define the y-axis values\n",
    "            y_values = [stats_dict['euclidean']['mean'], stats_dict['euclidean']['median'],\n",
    "                        stats_dict['euclidean']['std'], stats_dict['dtw']['mean'],\n",
    "                        stats_dict['dtw']['median'], stats_dict['dtw']['std']]\n",
    "\n",
    "            # define the x-axis positions for the current group\n",
    "            x_pos_cluster = x_pos + (i * bar_width) - (bar_width * (len(dict_w_stats) / 2))\n",
    "\n",
    "            # plot the data for the current group\n",
    "            ax.bar(x_pos_cluster, y_values, bar_width, label=f'Cluster {cluster_label}')\n",
    "\n",
    "        # add axis labels, a title, and a legend\n",
    "        ax.set_xlabel('Distance Metric and Statistic')\n",
    "        ax.set_ylabel('Value')\n",
    "        ax.set_title(f'{algorithm_name} - Metrics by Clusters')\n",
    "        ax.legend()\n",
    "\n",
    "        # set the x-axis ticks and labels\n",
    "        ax.set_xticks(x_pos)\n",
    "        ax.set_xticklabels(x_labels)\n",
    "\n",
    "        # setting the names on the x axis slighly angled to avoid names_overlapping:\n",
    "        plt.xticks(rotation = -20, ha='center')\n",
    "        \n",
    "        # saving the fig as the png.file:\n",
    "        plt.savefig(f'{algorithm_name}_distance_metrics_barplot.png')\n",
    "        \n",
    "        # display the plot\n",
    "        plt.show()\n",
    "        \n",
    "    except Exception as e:\n",
    "        print(f'An error occured: {e}')"
   ]
  },
  {
   "cell_type": "code",
   "execution_count": null,
   "id": "a956dc70",
   "metadata": {},
   "outputs": [],
   "source": [
    "plot_dict_w_stats(kmeans_groups_stats, 'Kmeans')"
   ]
  },
  {
   "cell_type": "code",
   "execution_count": null,
   "id": "b75904b7",
   "metadata": {},
   "outputs": [],
   "source": [
    "plot_dict_w_stats(hierarchical_groups_stats, 'Hierarchical')"
   ]
  },
  {
   "cell_type": "markdown",
   "id": "a0d4ef7a",
   "metadata": {},
   "source": [
    "#### Plotting trajectories amnogs the clusters:"
   ]
  },
  {
   "cell_type": "code",
   "execution_count": null,
   "id": "cfb34c2f",
   "metadata": {},
   "outputs": [],
   "source": [
    "def plot_first_three_paths(tracks_in_clusters: dict, dict_w_coords: dict, dict_w_straight_corrds: dict):\n",
    "    try:\n",
    "        # Setting opperating dictionary:\n",
    "        temp_dict = {}\n",
    "        \n",
    "        # Choosing the first 3 occurences of each group:\n",
    "        for key in tracks_in_clusters.keys():\n",
    "            temp_dict[key] = tracks_in_clusters[key][:3]\n",
    "        \n",
    "        # Plotting all the paths:\n",
    "        for key in temp_dict:\n",
    "            print(f'Paths from cluster {int(key)}:')\n",
    "            for name in temp_dict[key]:\n",
    "                # first_list:\n",
    "                x_values, y_values = zip(*dict_w_coords[str(name)])\n",
    "                # Second_list:\n",
    "                x_2, y_2 = zip(*dict_w_straight_corrds[str(name)])\n",
    "\n",
    "                # Creating a scatter:\n",
    "                plt.plot(x_values, y_values, linestyle= 'dashed', label = f'Original {name}')\n",
    "                plt.plot(x_2, y_2, linestyle='dashed', label = 'Genereted line')\n",
    "                plt.xlabel('X_coords')\n",
    "                plt.ylabel('Y_coords')\n",
    "                plt.legend()\n",
    "                plt.title(f'Movement path of {name}')\n",
    "                plt.savefig(f'path_{name}_ass_clust_{key}.png')\n",
    "\n",
    "                plt.show()\n",
    "                \n",
    "    except Exception as e:\n",
    "        print(f'An error occurs: {e}')"
   ]
  },
  {
   "cell_type": "code",
   "execution_count": null,
   "id": "d12ba929",
   "metadata": {},
   "outputs": [],
   "source": [
    "plot_first_three_paths(kmeans_dict, track_positions_dict, straight_tracks_dict)"
   ]
  },
  {
   "cell_type": "markdown",
   "id": "00a23d58",
   "metadata": {},
   "source": [
    "### Check if provided features within groups are statistically significant"
   ]
  },
  {
   "cell_type": "code",
   "execution_count": null,
   "id": "55137833",
   "metadata": {},
   "outputs": [],
   "source": [
    "def check_normality_and_variance_equality(df_after_clustering, feature_list, cluster_col='Cluster_labels'):\n",
    "    \"\"\"\n",
    "    This function splits the input dataframe by the cluster for each feature, \n",
    "    performs normality and variance equality check for each group, \n",
    "    and returns a dictionary with results for each feature.\n",
    "    \n",
    "    Parameters:\n",
    "    - df_after_clustering: pandas dataframe containing the data\n",
    "    - feature_list: list of strings containing the names of the features to check\n",
    "    - cluster_col: string, the name of the column containing the cluster labels\n",
    "    \n",
    "    Returns:\n",
    "    - A dictionary containing the results for each feature, with feature names as keys.\n",
    "      Each result is a dictionary containing p-values of normality and variance equality tests\n",
    "      for each cluster group, with cluster labels as keys.\n",
    "    \"\"\"\n",
    "    try:\n",
    "        result_dict = {}\n",
    "\n",
    "        for feature in feature_list:\n",
    "            # Split the data by cluster and select the current feature\n",
    "            cluster_groups = df_after_clustering.groupby(cluster_col)[feature]\n",
    "\n",
    "            # Perform normality test for each group using Shapiro-Wilk test\n",
    "            shapiro_results = cluster_groups.apply(lambda x: stats.shapiro(x)[1])\n",
    "\n",
    "            # Perform variance equality test using Levene's test\n",
    "            levene_results = stats.levene(*[group for _, group in cluster_groups])\n",
    "\n",
    "            # Store results in the dictionary\n",
    "            result_dict[feature] = {'0': {'shapiro': shapiro_results.loc[0], 'levene': levene_results.pvalue},\n",
    "                                    '1': {'shapiro': shapiro_results.loc[1], 'levene': levene_results.pvalue}}\n",
    "\n",
    "        return result_dict\n",
    "    \n",
    "    except Exception as e:\n",
    "        print(f'An error occurs: {e}')"
   ]
  },
  {
   "cell_type": "code",
   "execution_count": null,
   "id": "3daeeb12",
   "metadata": {},
   "outputs": [],
   "source": [
    "# Adding the print for column_names if needed to change in future in place:\n",
    "column_names_provided_df = list(df_after_kmeans.columns)\n",
    "print(f'Available column names:\\n{column_names_provided_df}')"
   ]
  },
  {
   "cell_type": "code",
   "execution_count": null,
   "id": "753cb46b",
   "metadata": {},
   "outputs": [],
   "source": [
    "# Calling function of testing the normality and equality:\n",
    "normality_equ_dict_kmeans = check_normality_and_variance_equality(df_after_kmeans,\n",
    "                                 ['CONFINEMENT_RATIO', 'MEAN_STRAIGHT_LINE_SPEED'])"
   ]
  },
  {
   "cell_type": "code",
   "execution_count": null,
   "id": "cf785e91",
   "metadata": {},
   "outputs": [],
   "source": [
    "# Output of the dictionary:\n",
    "normality_equ_dict_kmeans"
   ]
  },
  {
   "cell_type": "markdown",
   "id": "6e428edc",
   "metadata": {},
   "source": [
    "#### Performing statistical testing if there are sagnificant differences between groups:"
   ]
  },
  {
   "cell_type": "code",
   "execution_count": null,
   "id": "d2a85b2d",
   "metadata": {},
   "outputs": [],
   "source": [
    "from scipy.stats import mannwhitneyu\n",
    "\n",
    "def perform_mann_whitney(df_after_clustering, feature_list, cluster_col='Cluster_labels', pval_threshold=0.05):\n",
    "    \"\"\"\n",
    "    This function performs the Mann-Whitney U test for the two groups in each feature,\n",
    "    and checks if the groups differ significantly based on a given p-value threshold.\n",
    "    \n",
    "    Parameters:\n",
    "    - df_after_clustering: pandas dataframe containing the data\n",
    "    - feature_list: list of strings containing the names of the features to check\n",
    "    - cluster_col: string, the name of the column containing the cluster labels\n",
    "    - pval_threshold: float, the p-value threshold to use for significance testing\n",
    "    \n",
    "    Returns:\n",
    "    - A dictionary containing the results for each feature, with feature names as keys.\n",
    "      Each result is a dictionary with keys 'Statistic', 'P-value', and 'Groups_differ'.\n",
    "      The 'Groups_differ' key has a value of 'Yes' if the p-value is below the threshold,\n",
    "      or 'No' otherwise.\n",
    "    \"\"\"\n",
    "    try:\n",
    "        result_dict = {}\n",
    "        \n",
    "        for feature in feature_list:\n",
    "            # Split the data by cluster and select the current feature\n",
    "            cluster_groups = df_after_clustering.groupby(cluster_col)[feature]\n",
    "            \n",
    "            # Perform Mann-Whitney U test for the two groups\n",
    "            group1 = cluster_groups.get_group(0)\n",
    "            group2 = cluster_groups.get_group(1)\n",
    "            mwu_result = mannwhitneyu(group1, group2, alternative='two-sided')\n",
    "            \n",
    "            # Check if the p-value is below the threshold\n",
    "            if mwu_result.pvalue < pval_threshold:\n",
    "                groups_differ = 'Yes'\n",
    "            else:\n",
    "                groups_differ = 'No'\n",
    "            \n",
    "            result_dict[feature] = {'Statistic': mwu_result.statistic,\n",
    "                                    'P-value': mwu_result.pvalue,\n",
    "                                    'Groups_differ': groups_differ}\n",
    "        \n",
    "        return result_dict\n",
    "    \n",
    "    except Exception as e:\n",
    "        print(f'An error occurs: {e}')"
   ]
  },
  {
   "cell_type": "code",
   "execution_count": null,
   "id": "e42ba8db",
   "metadata": {},
   "outputs": [],
   "source": [
    "# Calling the function to perform testing:\n",
    "mann_result_dict = perform_mann_whitney(df_after_kmeans,\n",
    "                        ['CONFINEMENT_RATIO', 'MEAN_STRAIGHT_LINE_SPEED'])"
   ]
  },
  {
   "cell_type": "code",
   "execution_count": null,
   "id": "c008bab8",
   "metadata": {},
   "outputs": [],
   "source": [
    "mann_result_dict"
   ]
  },
  {
   "cell_type": "markdown",
   "id": "0afe6745",
   "metadata": {},
   "source": [
    "#### Creating boxplots with annotations of provided features:"
   ]
  },
  {
   "cell_type": "code",
   "execution_count": null,
   "id": "9ee371a2",
   "metadata": {},
   "outputs": [],
   "source": [
    "from statannotations.Annotator import Annotator\n",
    "\n",
    "def plot_boxplot_with_annotations(df_after_clustering, cluster_labels = 'Cluster_labels',feature_list = ['CONFINEMENT_RATIO', 'MEAN_STRAIGHT_LINE_SPEED']):\n",
    "    '''\n",
    "    This function perform plotting operations on the pandas data frame data created after clustering. The result of the function are graphs \n",
    "    of all the features given in the list of features, as long as they occur in the given data frame. \n",
    "    The generated plot is a box plot of each feature in relation to its clustering groups with an annotation \n",
    "    informing whether there are statistically significant differences between the groups confirmed by the Mann-Whitney test.\n",
    "    \n",
    "    Parameters:\n",
    "    - df_after_clustering: pandas dataframe containing the data\n",
    "    - cluster_labels: string name of the column contaning the labels of the clusters\n",
    "    - feature_list: list of strings containing the names of the features to check\n",
    "    \n",
    "    Returns:\n",
    "    None, this is plotting function, but it saves the plots as a png in working directory.\n",
    "\n",
    "    '''\n",
    "    try:\n",
    "        # Setting the properties of boxplot\n",
    "        for feature in feature_list:\n",
    "            fig, ax = plt.subplots(figsize=(8,6))\n",
    "            # Argument whis = 1.5 to show the whiskers up to 1.5 standard deviations from the \n",
    "            # upper and lower quartiles\n",
    "            sns.boxplot(data = df_after_clustering, x=cluster_labels, y=feature, ax = ax, whis = 1.5)\n",
    "            ax.set_xlabel('Clusters')\n",
    "            ax.set_ylabel(feature)\n",
    "            ax.set_title(f'{feature} boxplot')\n",
    "            ax.set_xticklabels(['Cluster 0', 'Cluster 1'])\n",
    "            \n",
    "            # Setting the annotator\n",
    "            annotator = Annotator(ax, pairs = [(0,1)], data= df_after_clustering,\n",
    "                                  x=cluster_labels, y=feature)\n",
    "            annotator.configure(test = \"Mann-Whitney\")#, text_format = 'simple')\n",
    "            annotator.apply_and_annotate()\n",
    "            \n",
    "            #saving the plots\n",
    "            plt.savefig(f'{feature}_with_annotation_kmeans.png')\n",
    "            # Showing the plot\n",
    "            plt.show()\n",
    "            \n",
    "    except Exception as e:\n",
    "        print(f'An error occurs: {e}')"
   ]
  },
  {
   "cell_type": "code",
   "execution_count": null,
   "id": "33c195f7",
   "metadata": {},
   "outputs": [],
   "source": [
    "plot_boxplot_with_annotations(df_after_kmeans)"
   ]
  },
  {
   "cell_type": "markdown",
   "id": "7b6e802f",
   "metadata": {},
   "source": [
    "#### Creating boxplots with annotations of calculated distances:"
   ]
  },
  {
   "cell_type": "code",
   "execution_count": null,
   "id": "47d31e9a",
   "metadata": {
    "scrolled": true
   },
   "outputs": [],
   "source": [
    "# In use for distances purpose the additiona alrguments should be specified:\n",
    "# data frame - the proper one with the distances\n",
    "# column containing informations about clustering labels\n",
    "# list of feature names in this example the distance names \n",
    "# to use as features: \n",
    "plot_boxplot_with_annotations(df_distances_to_linear, 'kmeans_clusters',\n",
    "                             ['Euclidean_distance', 'DTW_distance'])"
   ]
  },
  {
   "cell_type": "markdown",
   "id": "b24d7508",
   "metadata": {},
   "source": [
    "#### Getting mean_directiona_change_rate data from raw according to groups:"
   ]
  },
  {
   "cell_type": "code",
   "execution_count": null,
   "id": "7e149394",
   "metadata": {},
   "outputs": [],
   "source": [
    "def get_feature_by_track_name(gruped_dict: dict, df_scaled: pd.DataFrame, feature: str):\n",
    "    '''\n",
    "    Function creates dictionary of dictionaries splited by the cluster group. The dictionaries\n",
    "    inside cluster group contain information about the track name and their value of provided \n",
    "    as string feature to choose.\n",
    "    \n",
    "    Args:\n",
    "    - gruped_dict: dict - dict with the names of tracks splitted into two groups. In the form \n",
    "    of dictionary of dictionaries where first dictionary stroe the information about the cluster\n",
    "    in the key and the names of tracks in the list.\n",
    "    \n",
    "    - df_scaled: pd.DataFrame - pandas data frame with all the features from fjii scaled\n",
    "    \n",
    "    - feature: str - string name of the feature from df_scaled, which we want to choose to create\n",
    "    dictionary from it.\n",
    "    \n",
    "    Returns:\n",
    "    Function returns dictionary of dictionaries where first key is cluster number, second dictionary store\n",
    "    the info about the track name as a key, and the choosen feature value as flot or int accordingly which \n",
    "    feature was selected. \n",
    "    \n",
    "    '''\n",
    "    try:\n",
    "        # Dictionary to store the values:\n",
    "        storing_dict = {}\n",
    "        \n",
    "        # Iterating by the dictionary and list of group string to get \n",
    "        # proper values:\n",
    "        for key, name_list in gruped_dict.items():\n",
    "            temp_key = key\n",
    "            storing_dict[temp_key] = {}\n",
    "            for name_index in range(len(name_list)):\n",
    "                temp_name = name_list[name_index]\n",
    "                #print(f'Temp Name: {temp_name}')\n",
    "                \n",
    "                # selecting column value from choosen row:\n",
    "                needed_val = df_scaled.loc[df_scaled['Label']==temp_name, str(feature)].values[0]\n",
    "                # print(f'{temp_name}: {needed_val}')\n",
    "                \n",
    "                # Saving the values to the dictionary:\n",
    "                storing_dict[temp_key][temp_name] = needed_val\n",
    "                \n",
    "        return storing_dict\n",
    "        \n",
    "    except Exceptions as e:\n",
    "        print(f'An error occurs: {e}')"
   ]
  },
  {
   "cell_type": "code",
   "execution_count": null,
   "id": "916deb14",
   "metadata": {},
   "outputs": [],
   "source": [
    "change_rate_by_track = get_feature_by_track_name(kmeans_dict, df_scaled, 'MEAN_DIRECTIONAL_CHANGE_RATE')"
   ]
  },
  {
   "cell_type": "markdown",
   "id": "e9f541ec",
   "metadata": {},
   "source": [
    "#### Convertion of provided feature dictionary to data frame:"
   ]
  },
  {
   "cell_type": "code",
   "execution_count": null,
   "id": "cb037a78",
   "metadata": {},
   "outputs": [],
   "source": [
    "def dict_to_dataframe(data_dict: Dict[str, Dict[str, float]], value_col_name: str) -> pd.DataFrame:\n",
    "    \"\"\"\n",
    "    Converts a dictionary with nested dictionaries into a Pandas DataFrame with three columns: name, value,\n",
    "    and group. The name column contains the name of each dictionary key, the value column contains the values\n",
    "    of the dictionary keys specified by the value_col_name argument, and the group column contains an integer\n",
    "    indicating which nested dictionary the key belongs to.\n",
    "    \n",
    "    Args:\n",
    "     - data_dict - A dictionary with nested dictionaries.\n",
    "     - value_col_name - A string specifying the key in the nested dictionaries to use as the values in the\n",
    "                           \"value\" column of the resulting DataFrame.\n",
    "    Returns:\n",
    "     - A Pandas DataFrame.\n",
    "    \"\"\"\n",
    "    try:\n",
    "        # Check if the input dictionary is in the proper format\n",
    "        for name, nested_dict in data_dict.items():\n",
    "            if not isinstance(nested_dict, dict):\n",
    "                print(f\"Value for key {name} is not a proper form of dictionary.\")\n",
    "                return None\n",
    "            for key, value in nested_dict.items():\n",
    "                if not isinstance(value, float):\n",
    "                    print(f\"Value for key {key} in nested dictionary under {name} is not an float.\")\n",
    "                    return None\n",
    "        \n",
    "        # Initialize lists for each column\n",
    "        names = []\n",
    "        values = []\n",
    "        groups = []\n",
    "\n",
    "        # Iterate over the outer dictionary\n",
    "        for group, group_dict in data_dict.items():\n",
    "            # Checking values:\n",
    "            # print(f'Group: {group}')\n",
    "            # print(f'Group_dict: {group_dict}')\n",
    "            \n",
    "            # Iterate over the inner dictionary\n",
    "            for name, value_dict in group_dict.items():\n",
    "                # Checking values:\n",
    "                #print(f'Name: {name}')\n",
    "                #print(f'Value_dict: {value_dict}')\n",
    "                \n",
    "                # Add the name, value, and group to their respective lists\n",
    "                names.append(name)\n",
    "                values.append(value_dict)\n",
    "                groups.append(group)\n",
    "\n",
    "        # Create a DataFrame from the lists\n",
    "        df = pd.DataFrame({'name': names, value_col_name: values, 'Clusters': groups})\n",
    "\n",
    "        return df\n",
    "    \n",
    "    except Exception as e:\n",
    "        print(f'An error occurs: {e}')"
   ]
  },
  {
   "cell_type": "code",
   "execution_count": null,
   "id": "bfed993b",
   "metadata": {},
   "outputs": [],
   "source": [
    "change_rate_df = dict_to_dataframe(change_rate_by_track, 'Mean_change_rate')"
   ]
  },
  {
   "cell_type": "markdown",
   "id": "332cd1ca",
   "metadata": {},
   "source": [
    "#### Creating boxplot with annotations for choosen feature:"
   ]
  },
  {
   "cell_type": "code",
   "execution_count": null,
   "id": "d0f4ae10",
   "metadata": {},
   "outputs": [],
   "source": [
    "plot_boxplot_with_annotations(change_rate_df, \n",
    "                              'Clusters', ['Mean_change_rate'])\n"
   ]
  },
  {
   "cell_type": "markdown",
   "id": "db49305f",
   "metadata": {},
   "source": [
    "### Measuring curvature of movement:"
   ]
  },
  {
   "cell_type": "code",
   "execution_count": null,
   "id": "bb5e38c4",
   "metadata": {},
   "outputs": [],
   "source": [
    "from scipy.interpolate import splprep, splev\n",
    "\n",
    "def curvature_measurment(tracks_in_clusters: dict, dict_w_coords: dict):\n",
    "    '''\n",
    "    Calculates the curvature of the first three trajectories in each cluster and visualizes them.\n",
    "\n",
    "    This function uses the `splprep` and `splev` functions from the SciPy library to fit a spline \n",
    "    to the trajectory data and evaluate the curvature of the trajectory at each point. \n",
    "    The curvature is calculated as the inverse of the radius of the circle that best approximates the trajectory\n",
    "    at each point. By convention, the sign of the curvature is positive for curves that\n",
    "    bend counterclockwise (to the left) and negative for curves that bend clockwise (to the right).\n",
    "\n",
    "    Args:\n",
    "    - tracks_in_clusters: A dictionary of trajectory names grouped by their respective clusters.\n",
    "    - dict_w_coords: A dictionary with keys as trajectory names and values as a list of (x,y) coordinates.\n",
    "\n",
    "    Returns:\n",
    "    - None\n",
    "    '''\n",
    "    try:\n",
    "        # Setting opperating dictionary:\n",
    "        temp_dict = {}\n",
    "        \n",
    "        # Choosing the first 3 occurences of each group:\n",
    "        for key in tracks_in_clusters.keys():\n",
    "            temp_dict[key] = tracks_in_clusters[key][:3]\n",
    "        \n",
    "        # Plotting all the paths:\n",
    "        for key in temp_dict:\n",
    "            print(f'Paths from cluster {int(key)}:')\n",
    "            for name in temp_dict[key]:\n",
    "                # Unpacking trajectory coordinates:\n",
    "                x, y = zip(*dict_w_coords[str(name)])\n",
    "                track_len = len(track_positions_dict['Track_9'])\n",
    "\n",
    "                # Fit a spline to the trajectory data\n",
    "                tck, u = splprep([x, y], s=0)\n",
    "\n",
    "                # Evaluate the spline to get x and y coordinates at each point along the curve\n",
    "                x_new, y_new = splev(np.linspace(0, 1, num=1000), tck)\n",
    "\n",
    "                # Calculate the curvature of the trajectory\n",
    "                dx_dt, dy_dt = splev(np.linspace(0, 1, num=track_len), tck, der=1)\n",
    "                d2x_dt2, d2y_dt2 = splev(np.linspace(0, 1, num=track_len), tck, der=2)\n",
    "                curvature = (dx_dt * d2y_dt2 - dy_dt * d2x_dt2) / (dx_dt ** 2 + dy_dt ** 2) ** 1.5\n",
    "\n",
    "                # Plot the trajectory and curvature\n",
    "                import matplotlib.pyplot as plt\n",
    "                fig, axs = plt.subplots(nrows=2, ncols=1, figsize=(8, 8))\n",
    "                axs[0].plot(x, y)\n",
    "                axs[0].set_xlabel('X')\n",
    "                axs[0].set_ylabel('Y')\n",
    "                axs[0].set_title(f'Trajectory_of_{name}')\n",
    "                axs[1].plot(curvature)\n",
    "                axs[1].set_xlabel('Point Number')\n",
    "                axs[1].set_ylabel('Curvature')\n",
    "                axs[1].set_title('Curvature')\n",
    "                fig.subplots_adjust(hspace=0.25)\n",
    "                plt.title(f'{name}_curavature_measure')\n",
    "                #saving the plots\n",
    "                plt.savefig(f'{name}_and_curvature_kmeans.png')\n",
    "                plt.show()\n",
    "                \n",
    "    \n",
    "    except Exception as e:\n",
    "        print(f'An error occurs: {e}')"
   ]
  },
  {
   "cell_type": "code",
   "execution_count": null,
   "id": "12054eda",
   "metadata": {},
   "outputs": [],
   "source": [
    "curvature_measurment(kmeans_dict, track_positions_dict)"
   ]
  },
  {
   "cell_type": "markdown",
   "id": "f4b5299a",
   "metadata": {},
   "source": [
    "The curve diagram from the code shows the variation in curvature of the movement path. The curvature determines how much the path of motion is curved at each point. The higher the curvature value, the more the track is curved.\n",
    "\n",
    "In a curvature diagram, the horizontal axis represents points on the path of motion and the vertical axis represents the value of curvature at these points. Positive values of curvature mean that the track of motion is curved to the right and negative values mean that the track is curved to the left.\n",
    "\n",
    "The curvature values depend on the scale of the graph, so without an accurate scale it is difficult to determine exactly how much the track is curved. However, by looking at the overall variation of curvature on the graph, we can assess how much the track is curved and where the most curved areas are."
   ]
  },
  {
   "cell_type": "markdown",
   "id": "972b61c6",
   "metadata": {},
   "source": [
    "## TEST CODE:"
   ]
  },
  {
   "cell_type": "code",
   "execution_count": null,
   "id": "1fcaaf7d",
   "metadata": {},
   "outputs": [],
   "source": [
    "from scipy.interpolate import splprep, splev\n",
    "\n",
    "\"\"\"\n",
    "This code uses the scipy library to fit a spline to a given trajectory, and then calculates the curvature of the trajectory using the fitted spline. The steps are as follows:\n",
    "\n",
    "Import the required libraries - scipy.interpolate.splprep and scipy.interpolate.splev.\n",
    "Create a set of x and y coordinates to represent the trajectory (in this example, \n",
    "the data is taken from a dictionary called track_positions_dict for a specific track named 'Track_2').\n",
    "Fit a spline to the trajectory data using splprep. The s parameter controls the smoothness of the resulting spline. \n",
    "A value of 0 means the spline will pass through all the given points, \n",
    "while a higher value will result in a smoother curve that may not pass through all the points.\n",
    "Evaluate the fitted spline using splev to obtain new x and y coordinates at a higher resolution \n",
    "(1000 points in this example). Calculate the curvature of the trajectory using the formula \n",
    "for curvature based on the first and second derivatives of the spline.\n",
    "Plot the original trajectory and the curvature values on two subplots.\n",
    "\n",
    "Args:\n",
    "None\n",
    "\n",
    "Returns:\n",
    "None\n",
    "\n",
    "\"\"\"\n",
    "\n",
    "# test:\n",
    "x,y = zip(*track_positions_dict['Track_9'])\n",
    "track_len = len(track_positions_dict['Track_9'])\n",
    "\n",
    "# Fit a spline to the trajectory data\n",
    "tck, u = splprep([x, y], s=0)\n",
    "\n",
    "# Evaluate the spline to get x and y coordinates at each point along the curve\n",
    "x_new, y_new = splev(np.linspace(0, 1, num=1000), tck)\n",
    "\n",
    "# Calculate the curvature of the trajectory\n",
    "dx_dt, dy_dt = splev(np.linspace(0, 1, num=track_len), tck, der=1)\n",
    "d2x_dt2, d2y_dt2 = splev(np.linspace(0, 1, num=track_len), tck, der=2)\n",
    "curvature = (dx_dt * d2y_dt2 - dy_dt * d2x_dt2) / (dx_dt ** 2 + dy_dt ** 2) ** 1.5\n",
    "\n",
    "# Plot the trajectory and curvature\n",
    "import matplotlib.pyplot as plt\n",
    "fig, axs = plt.subplots(nrows=2, ncols=1, figsize=(8, 8))\n",
    "axs[0].plot(x, y)\n",
    "axs[0].set_xlabel('X')\n",
    "axs[0].set_ylabel('Y')\n",
    "axs[0].set_title('Trajectory')\n",
    "axs[1].plot(curvature)\n",
    "axs[1].set_xlabel('Point Number')\n",
    "axs[1].set_ylabel('Curvature')\n",
    "axs[1].set_title('Curvature')\n",
    "fig.subplots_adjust(hspace=0.25)\n",
    "plt.show()"
   ]
  },
  {
   "cell_type": "code",
   "execution_count": null,
   "id": "17bb7121",
   "metadata": {},
   "outputs": [],
   "source": [
    "# przykładowe punkty trajektorii\n",
    "x = np.array([0, 2, 4, 6, 8, 10])\n",
    "y = np.array([0, 1, 3, 6, 10, 15])\n",
    "\n",
    "# wyznaczenie krzywizny dla każdego punktu\n",
    "dx_dt = np.gradient(x)\n",
    "dy_dt = np.gradient(y)\n",
    "d2x_dt2 = np.gradient(dx_dt)\n",
    "d2y_dt2 = np.gradient(dy_dt)\n",
    "curvature = (dx_dt*d2y_dt2 - dy_dt*d2x_dt2) / (dx_dt**2 + dy_dt**2)**1.5\n",
    "\n",
    "# wyznaczenie promienia dla każdego punktu\n",
    "radius = 1 / curvature\n",
    "\n",
    "# wyznaczenie środka okręgu dla każdego punktu\n",
    "x_center = x + radius * dy_dt / np.sqrt(dx_dt**2 + dy_dt**2)\n",
    "y_center = y - radius * dx_dt / np.sqrt(dx_dt**2 + dy_dt**2)\n",
    "\n",
    "# rysowanie trajektorii, okręgu i promienia\n",
    "fig, ax = plt.subplots()\n",
    "ax.plot(x, y, label='Trajektoria')\n",
    "ax.plot(x_center, y_center, label='Okreg dopasowany')\n",
    "ax.set_aspect('equal')\n",
    "for i in range(len(x)):\n",
    "    ax.plot([x[i], x_center[i]], [y[i], y_center[i]], 'k--', lw=0.5)\n",
    "ax.legend()\n",
    "plt.show()"
   ]
  },
  {
   "cell_type": "code",
   "execution_count": null,
   "id": "7c9ec9c2",
   "metadata": {},
   "outputs": [],
   "source": [
    "# Testing the generation of points:\n",
    "# first_list:\n",
    "x_values, y_values = zip(*track_positions_dict['Track_0'])\n",
    "# Second_list:\n",
    "x_2, y_2 = zip(*straight_tracks_dict['Track_0'])\n",
    "\n",
    "# Creating a scatter:\n",
    "plt.plot(x_values, y_values, linestyle= 'dashed', label = 'Original')\n",
    "plt.plot(x_2, y_2, linestyle='dashed', label = 'Genereted_line')\n",
    "plt.xlabel('X_coords')\n",
    "plt.ylabel('Y_coords')\n",
    "plt.legend()\n",
    "plt.title('Scatter from points')\n",
    "\n",
    "plt.show()"
   ]
  },
  {
   "cell_type": "code",
   "execution_count": null,
   "id": "6694af2e",
   "metadata": {},
   "outputs": [],
   "source": [
    "# First list:\n",
    "x_values, y_values = zip(*track_positions_dict['Track_9'])\n",
    "# Second list:\n",
    "x_2, y_2 = zip(*straight_tracks_dict['Track_9'])\n",
    "\n",
    "# Create a figure and axis object\n",
    "fig, ax = plt.subplots()\n",
    "\n",
    "# Plot the original track and generated line\n",
    "ax.plot(x_values, y_values, linestyle='dashed', label='Original')\n",
    "ax.plot(x_2, y_2, linestyle='dashed', label='Generated line')\n",
    "\n",
    "# Add annotations to the generated line\n",
    "for i in range(0, len(x_2) - 1, 10):\n",
    "    if i % 2 == 0:  # Add between first and last pair\n",
    "        ax.annotate('', xy=(x_2[i+1], y_2[i+1]), xytext=(x_2[i], y_2[i]),\n",
    "                    arrowprops=dict(facecolor='black', arrowstyle='->', linewidth=1,\n",
    "                                linestyle='--'))\n",
    "        \n",
    "for i in range(len(x_values) - 1):\n",
    "    if i == 0 or i == len(x_values) - 2:  # Add between first and last pair\n",
    "        ax.annotate('', xy=(x_values[i+1], y_values[i+1]), xytext=(x_values[i], y_values[i]),\n",
    "                    arrowprops=dict(facecolor='black', arrowstyle='->', linewidth=1,\n",
    "                                linestyle='None'))\n",
    "        \n",
    "# Adding arrow each every pair of points, this will be achived changing the step\n",
    "# inside the for loop:\n",
    "\n",
    "#for i in range(0, len(x_values) - 1, 2):\n",
    "#    ax.annotate('', xy=(x_values[i+1], y_values[i+1]), xytext=(x_values[i], y_values[i]),\n",
    "#                arrowprops=dict(facecolor='black', width=0.95, headwidth=2.5))\n",
    "#    \n",
    "\n",
    "# Add annotations to the generated line\n",
    "for i in range(len(x_values) - 1):\n",
    "    if i % 2 == 0:  # Add arrow every other point\n",
    "        ax.annotate('', xy=(x_values[i+1], y_values[i+1]), xytext=(x_values[i], y_values[i]),\n",
    "                    arrowprops=dict(facecolor='black', arrowstyle='<-', linewidth=0.65,\n",
    "                                linestyle='--'))\n",
    "\n",
    "# Add axis labels, title and legend\n",
    "ax.set_xlabel('X_coords')\n",
    "ax.set_ylabel('Y_coords')\n",
    "ax.set_title('Scatter from points')\n",
    "ax.legend()\n",
    "\n",
    "plt.show()"
   ]
  },
  {
   "cell_type": "code",
   "execution_count": null,
   "id": "57c6f973",
   "metadata": {},
   "outputs": [],
   "source": [
    "import matplotlib.patches as patches\n",
    "\n",
    "# Testing the generation of points:\n",
    "# First list:\n",
    "x_values, y_values = zip(*track_positions_dict['Track_15'])\n",
    "# Second list:\n",
    "x_2, y_2 = zip(*straight_tracks_dict['Track_15'])\n",
    "\n",
    "# Create a figure and axis object\n",
    "fig, ax = plt.subplots()\n",
    "\n",
    "# Plot the original track and generated line\n",
    "ax.plot(x_values, y_values, linestyle='dashed', label='Original')\n",
    "ax.plot(x_2, y_2, linestyle='dashed', label='Generated line')\n",
    "\n",
    "# Add annotations to the generated line\n",
    "for i in range(0, len(x_2) - 1, 15):\n",
    "    start = (x_2[i], y_2[i])\n",
    "    end = (x_2[i+1], y_2[i+1])\n",
    "    dx = end[0] - start[0]\n",
    "    dy = end[1] - start[1]\n",
    "    arrow = patches.FancyArrowPatch(start, end, arrowstyle='simple',\n",
    "                                    mutation_scale=20, linewidth=0.65, \n",
    "                                    edgecolor='black',\n",
    "                                    facecolor='none')\n",
    "    ax.add_patch(arrow)\n",
    "    \n",
    "for i in range(0, len(x_values) - 1):\n",
    "    start = (x_values[i], y_values[i])\n",
    "    end = (x_values[i+1], y_values[i+1])\n",
    "    dx = end[0] - start[0]\n",
    "    dy = end[1] - start[1]\n",
    "    arrow_values = patches.FancyArrowPatch(start, end, arrowstyle='simple',\n",
    "                                    mutation_scale=10, linewidth=0.3, \n",
    "                                    edgecolor='black',\n",
    "                                    facecolor='none')\n",
    "    ax.add_patch(arrow_values)\n",
    "    \n",
    "# Add axis labels, title and legend\n",
    "ax.set_xlabel('X_coords')\n",
    "ax.set_ylabel('Y_coords')\n",
    "ax.set_title('Scatter from points')\n",
    "ax.legend()\n",
    "\n",
    "plt.show()"
   ]
  },
  {
   "cell_type": "code",
   "execution_count": null,
   "id": "7ec23c75",
   "metadata": {},
   "outputs": [],
   "source": []
  }
 ],
 "metadata": {
  "kernelspec": {
   "display_name": "Python 3 (ipykernel)",
   "language": "python",
   "name": "python3"
  },
  "language_info": {
   "codemirror_mode": {
    "name": "ipython",
    "version": 3
   },
   "file_extension": ".py",
   "mimetype": "text/x-python",
   "name": "python",
   "nbconvert_exporter": "python",
   "pygments_lexer": "ipython3",
   "version": "3.10.9"
  }
 },
 "nbformat": 4,
 "nbformat_minor": 5
}
