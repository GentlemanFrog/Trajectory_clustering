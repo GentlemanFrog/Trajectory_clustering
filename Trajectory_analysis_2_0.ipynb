{
 "cells": [
  {
   "cell_type": "code",
   "execution_count": 1,
   "id": "0d62ffe9",
   "metadata": {},
   "outputs": [
    {
     "name": "stdout",
     "output_type": "stream",
     "text": [
      "env: OMP_NUM_THREADS=1\n"
     ]
    }
   ],
   "source": [
    "# Setting optimal number of threads for kmeans:\n",
    "%env OMP_NUM_THREADS=1\n",
    "import numpy as np\n",
    "import pandas as pd\n",
    "import matplotlib.pyplot as plt\n",
    "import seaborn as sns\n",
    "import scipy.stats as stats\n",
    "from sklearn.cluster import KMeans\n",
    "from sklearn.cluster import KMeans, AgglomerativeClustering\n",
    "from sklearn.preprocessing import StandardScaler\n",
    "from sklearn.preprocessing import RobustScaler\n",
    "from sklearn.metrics import silhouette_score\n",
    "import pylab\n",
    "import os\n",
    "# allow us to see results under cell code\n",
    "%matplotlib inline"
   ]
  },
  {
   "cell_type": "markdown",
   "id": "6dabeeae",
   "metadata": {},
   "source": [
    "### Set working directory:"
   ]
  },
  {
   "cell_type": "markdown",
   "id": "df6dd75a",
   "metadata": {},
   "source": [
    "#### Check current working directory:"
   ]
  },
  {
   "cell_type": "code",
   "execution_count": 2,
   "id": "7c429ff0",
   "metadata": {},
   "outputs": [
    {
     "data": {
      "text/plain": [
       "'C:\\\\Users\\\\Alek\\\\Desktop\\\\Github_commits\\\\Trajectory_clustering'"
      ]
     },
     "execution_count": 2,
     "metadata": {},
     "output_type": "execute_result"
    }
   ],
   "source": [
    "pwd"
   ]
  },
  {
   "cell_type": "markdown",
   "id": "7da31383",
   "metadata": {},
   "source": [
    "#### Setting desire working directory\n",
    "(Provide path to the folder containing the .csv file from fiji)"
   ]
  },
  {
   "cell_type": "code",
   "execution_count": 3,
   "id": "ffb8ca61",
   "metadata": {},
   "outputs": [],
   "source": [
    "os.chdir('C:\\\\Users\\\\Alek\\\\Desktop\\\\Github_commits\\\\Trajectory_clustering\\\\training_csv')"
   ]
  },
  {
   "cell_type": "markdown",
   "id": "b8108b51",
   "metadata": {},
   "source": [
    "#### Check if provided path leads to desired directory:"
   ]
  },
  {
   "cell_type": "code",
   "execution_count": 4,
   "id": "f361380b",
   "metadata": {},
   "outputs": [
    {
     "data": {
      "text/plain": [
       "'C:\\\\Users\\\\Alek\\\\Desktop\\\\Github_commits\\\\Trajectory_clustering\\\\training_csv'"
      ]
     },
     "execution_count": 4,
     "metadata": {},
     "output_type": "execute_result"
    }
   ],
   "source": [
    "os.getcwd()"
   ]
  },
  {
   "cell_type": "markdown",
   "id": "25b0aa88",
   "metadata": {},
   "source": [
    "### Setting filenames:"
   ]
  },
  {
   "cell_type": "markdown",
   "id": "116affe3",
   "metadata": {},
   "source": [
    "#### tracks_df - .csv file from fiji (or imageJ) containing information about generated tracks from TrackMate plugin\n",
    "#### spots_df - .csv file from fiji (or imageJ) containing information about spots whithin every track"
   ]
  },
  {
   "cell_type": "code",
   "execution_count": 5,
   "id": "84165819",
   "metadata": {},
   "outputs": [],
   "source": [
    "tracks_df = 'export_tracks_analiza_filtered.csv' \n",
    "\n",
    "spots_df = 'export_spots_analiza_filtered.csv'"
   ]
  },
  {
   "cell_type": "code",
   "execution_count": null,
   "id": "f239b25f",
   "metadata": {},
   "outputs": [],
   "source": []
  }
 ],
 "metadata": {
  "kernelspec": {
   "display_name": "Python 3 (ipykernel)",
   "language": "python",
   "name": "python3"
  },
  "language_info": {
   "codemirror_mode": {
    "name": "ipython",
    "version": 3
   },
   "file_extension": ".py",
   "mimetype": "text/x-python",
   "name": "python",
   "nbconvert_exporter": "python",
   "pygments_lexer": "ipython3",
   "version": "3.9.13"
  }
 },
 "nbformat": 4,
 "nbformat_minor": 5
}
